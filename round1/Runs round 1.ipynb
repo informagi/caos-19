{
 "cells": [
  {
   "cell_type": "code",
   "execution_count": null,
   "metadata": {
    "collapsed": true
   },
   "outputs": [],
   "source": [
    "import xml.etree.ElementTree as Et\n",
    "\n",
    "from pyserini.search import pysearch\n",
    "from pyserini.search import pyquerybuilder\n",
    "from tqdm import tqdm\n",
    "from collections import defaultdict\n",
    "from pprint import pprint\n",
    "\n",
    "import subprocess\n",
    "\n",
    "from pyserini.pyclass import autoclass\n",
    "from pyserini.analysis.pyanalysis import get_lucene_analyzer"
   ]
  },
  {
   "cell_type": "code",
   "execution_count": null,
   "metadata": {
    "collapsed": true
   },
   "outputs": [],
   "source": [
    "run_no = 1 # 1 or 2"
   ]
  },
  {
   "cell_type": "code",
   "execution_count": null,
   "metadata": {
    "collapsed": true
   },
   "outputs": [],
   "source": [
    "tree = Et.parse('topics-rnd1.xml')\n",
    "root = tree.getroot()"
   ]
  },
  {
   "cell_type": "code",
   "execution_count": 8,
   "metadata": {},
   "outputs": [],
   "source": [
    "searcher = pysearch.SimpleSearcher('/home/chris/data/anserini/lucene-index-covid-2020-04-10/')"
   ]
  },
  {
   "cell_type": "code",
   "execution_count": 9,
   "metadata": {
    "collapsed": true
   },
   "outputs": [],
   "source": [
    "tasks = [\n",
    "    ['environmental transmission', 'incubation', 'contagious', 'persistence', 'stability', 'physical', 'weather',\n",
    "     'epidemiology', 'shedding', 'reproductive number', 'modes of transmission', 'virulent', 'asymptomatic', 'pathogen',\n",
    "     'evolutionary host', 'transmission host'],\n",
    "    ['smoking', 'risk', 'pulmonary', 'pre-condition', 'co-infection', 'high-risk', 'severe', 'susceptible', 'fatality',\n",
    "     'neonates', 'respitory', 'condition', 'pre-existing', 'pregnant', 'morbidities'],\n",
    "    ['human-animal', 'origin', 'genetics', 'evolution', 'genome', 'sample sets', 'genomic', 'strain', 'livestock',\n",
    "     'animal host', 'natural history', 'genetic drift', 'mutation', 'genomics', 'sequencing'],\n",
    "    ['vaccine', 'therapeutic', 'treat', 'drugs', 'pharmaceuticals', 'recipients', 'ADE', 'complication', 'antiviral',\n",
    "     'prophylaxis', 'cloroquine', 'vaccination', 'immume respone'],\n",
    "    ['medical care', 'surge capacity', 'nursing home', 'allocation', 'personal protective equirement',\n",
    "     'clinical characterization', 'nursing', 'care', 'Extracorporeal membrane oxygenation', 'ECMO',\n",
    "     'mechanical ventilation', 'extrapulmonary manifestations', 'cardiomyopathy', 'cardiac arrest',\n",
    "     'regulatory standards', 'N95 masks', 'elastomeric respirators', 'telemedicine', 'steroids', 'high flow oxygen',\n",
    "     'supportive interventions'],\n",
    "    ['NPI', 'non-pharmaceutical intervention', 'school closure', 'travel ban', 'quarantine', 'mass gathering',\n",
    "     'social distancing', 'public health advice', 'economic impact'],\n",
    "    ['counties', 'geographic', 'geography', 'mortality rate', 'spread', 'mutations'],\n",
    "    ['diagnostic', 'surveillance', 'detection', 'screening', 'ELISAs', 'capacity', 'testing', 'point-of-care',\n",
    "     'rapid testing', 'pathogen', 'reagent', 'cytokines', 'response markers', 'swabs'],\n",
    "    ['ethical', 'social science', 'principles', 'standards', 'ethics', 'psychological health', 'fear', 'anxiety',\n",
    "     'stigma', 'sociology'],\n",
    "    ['collaboration', 'nomenclature', 'data standards', 'information sharing', 'communication', 'collaborate',\n",
    "     'coordination', 'misunderstanding', 'action plan']\n",
    "]"
   ]
  },
  {
   "cell_type": "code",
   "execution_count": null,
   "metadata": {
    "collapsed": true
   },
   "outputs": [],
   "source": [
    "round_1_topic_task_manual = [2, 0, 3, 0, 3, 7, 3, 7, 6, 5, 4, 5, 0, 0, 0, 0, 7, 5, 5, 1, 0, 0, 1, 1, 1, 7, 7, 3, 3, 3]\n",
    "round_1_topic_task_automatic = [2, 5, 3, 0, 3, 6, 3, 3, 3, 5, 4, 3, 7, 3, 3, 0, 3, 0, 7, 3, 7, 8, 3, 3, 3, 6, 0, 3, 3, 3]"
   ]
  },
  {
   "cell_type": "code",
   "execution_count": null,
   "metadata": {
    "collapsed": true
   },
   "outputs": [],
   "source": [
    "if run_no == 2:\n",
    "    topic_task_no = round_1_topic_task_manual\n",
    "else:\n",
    "    topic_task_no = round_1_topic_task_automatic"
   ]
  },
  {
   "cell_type": "code",
   "execution_count": null,
   "metadata": {
    "collapsed": true
   },
   "outputs": [],
   "source": [
    "with open(f'RU-{round_no}-{run_no}txt', 'w') as f:\n",
    "    for i in tqdm(range(30)):\n",
    "        query = root[i][0].text\n",
    "        task = topic_task_no[i]\n",
    "        expansion = tasks[task]\n",
    "        query = query.split(' ')\n",
    "        for w in expansion:\n",
    "            for part in w.split(' '):\n",
    "                query.append(part)\n",
    "        query = ' '.join(query)\n",
    "        searcher = pysearch.SimpleSearcher('lucene-index-covid-full-text-2020-04-10/')\n",
    "        hits = searcher.search(query, 1005)\n",
    "        topicno = i + 1\n",
    "        seen = set()\n",
    "        j = 0\n",
    "        while j < 1200:\n",
    "            if hits[j].docid in seen:\n",
    "                j += 1\n",
    "                continue\n",
    "            rank = len(seen) + 1\n",
    "            hit = hits[j]\n",
    "            f.write(f'{topicno} Q0 {hit.docid} {rank} {hit.score} RU-bm25-t-exp\\n')\n",
    "            seen |= {hits[j].docid}\n",
    "            if rank == 1000:\n",
    "                break\n",
    "            j += 1"
   ]
  }
 ],
 "metadata": {
  "kernelspec": {
   "display_name": "Python 3",
   "language": "python",
   "name": "python3"
  },
  "language_info": {
   "codemirror_mode": {
    "name": "ipython",
    "version": 3
   },
   "file_extension": ".py",
   "mimetype": "text/x-python",
   "name": "python",
   "nbconvert_exporter": "python",
   "pygments_lexer": "ipython3",
   "version": "3.6.1"
  }
 },
 "nbformat": 4,
 "nbformat_minor": 2
}
