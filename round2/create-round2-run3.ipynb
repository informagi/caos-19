{
 "cells": [
  {
   "cell_type": "code",
   "execution_count": 1,
   "metadata": {
    "collapsed": true
   },
   "outputs": [],
   "source": [
    "import xml.etree.ElementTree as Et\n",
    "\n",
    "from pyserini.search import pysearch\n",
    "from pyserini.search import pyquerybuilder\n",
    "from tqdm import tqdm\n",
    "from collections import defaultdict\n",
    "from pprint import pprint\n",
    "\n",
    "import subprocess\n",
    "\n",
    "from pyserini.pyclass import autoclass\n",
    "from pyserini.analysis.pyanalysis import get_lucene_analyzer"
   ]
  },
  {
   "cell_type": "code",
   "execution_count": 2,
   "metadata": {
    "collapsed": true
   },
   "outputs": [],
   "source": [
    "searcher = pysearch.SimpleSearcher('/home/chris/data/anserini/lucene-index-cord19-paragraph-2020-05-01/')"
   ]
  },
  {
   "cell_type": "code",
   "execution_count": 3,
   "metadata": {
    "collapsed": true
   },
   "outputs": [],
   "source": [
    "docid_path = 'docids-rnd2.txt'\n",
    "valid = set()\n",
    "with open(docid_path, 'r') as f:\n",
    "    for line in f:\n",
    "        valid |= {line.strip()}"
   ]
  },
  {
   "cell_type": "code",
   "execution_count": 4,
   "metadata": {
    "collapsed": true
   },
   "outputs": [],
   "source": [
    "topics_path = '/home/chris/data/topics/topics-rnd2.xml'\n",
    "qrel_path = '/home/chris/data/qrels/qrels-rnd1.txt'"
   ]
  },
  {
   "cell_type": "code",
   "execution_count": 5,
   "metadata": {
    "collapsed": true
   },
   "outputs": [],
   "source": [
    "tree = Et.parse(topics_path)\n",
    "root = tree.getroot()\n",
    "topics = [root[i][0].text for i in range(35)]\n"
   ]
  },
  {
   "cell_type": "code",
   "execution_count": 6,
   "metadata": {
    "collapsed": true
   },
   "outputs": [],
   "source": [
    "judged = defaultdict(set)\n",
    "with open(qrel_path, 'r') as f:\n",
    "    for line in f:\n",
    "        topicno, iteration, empty, docid, relevance = line.strip().split(' ')\n",
    "        judged[int(topicno)] |= {docid}"
   ]
  },
  {
   "cell_type": "code",
   "execution_count": 7,
   "metadata": {
    "collapsed": true
   },
   "outputs": [],
   "source": [
    "tasks = [{'transmission': 0.033, 'mortality': 0.03, 'important': 0.027, 'common': 0.024, 'known': 0.023, 'one': 0.022, 'vaccine': 0.02}, {'clinical': 0.049, 'system': 0.045, 'risk': 0.028, 'studies': 0.027, 'evidence': 0.027, 'high': 0.023, 'large': 0.021, 'known': 0.02, 'factors': 0.02, 'highly': 0.02, 'common': 0.02, 'diagnosis': 0.019, 'identified': 0.017}, {'three': 0.035, 'host': 0.034, 'animal': 0.031, 'species': 0.03, 'early': 0.029, 'reported': 0.028, 'studies': 0.024, 'infected': 0.024, 'two': 0.022, 'animals': 0.021, 'mortality': 0.02, 'vaccine': 0.02, 'large': 0.019}, {'protein': 0.029, 'highly': 0.027, 'development': 0.024, 'vaccines': 0.024, 'although': 0.023, 'years': 0.021, 'effective': 0.021, 'assay': 0.021, 'related': 0.02}, {'clinical': 0.056, 'care': 0.046, 'diagnosis': 0.028, 'several': 0.025, 'provide': 0.025, 'studies': 0.022, 'data': 0.021, 'may': 0.019, 'critical': 0.019, 'lower': 0.019, 'confirmed': 0.018, 'identify': 0.018, 'information': 0.018, 'evidence': 0.018}, {'non': 0.035, 'important': 0.028, 'evidence': 0.025, 'control': 0.023, 'model': 0.023, 'care': 0.022, 'large': 0.022, 'although': 0.021, 'based': 0.019}, {'need': 0.046, 'control': 0.035, 'early': 0.032, 'care': 0.022, 'genome': 0.021, 'low': 0.021, 'years': 0.02, 'reported': 0.02, 'effective': 0.02, 'major': 0.02, 'developed': 0.02}, {'clinical': 0.05, 'diagnosis': 0.023, 'common': 0.019, 'major': 0.019, 'detection': 0.017, 'effective': 0.017}, {}, {}]\n",
    "\n",
    "topic_task_no = [2,0,3,0,3,6,3,6,7,5,4,5,0,0,0,0,3,5,5,1,0,0,1,1,6,6,6,3,3,3,2,2,3,1,9]"
   ]
  },
  {
   "cell_type": "code",
   "execution_count": 8,
   "metadata": {},
   "outputs": [
    {
     "data": {
      "text/plain": [
       "[{'common': 0.026815642458100565,\n",
       "  'important': 0.03016759776536314,\n",
       "  'known': 0.025698324022346376,\n",
       "  'mortality': 0.033519553072625705,\n",
       "  'one': 0.024581005586592184,\n",
       "  'transmission': 0.03687150837988828,\n",
       "  'vaccine': 0.022346368715083803},\n",
       " {'clinical': 0.02916666666666667,\n",
       "  'common': 0.011904761904761904,\n",
       "  'diagnosis': 0.01130952380952381,\n",
       "  'evidence': 0.01607142857142857,\n",
       "  'factors': 0.011904761904761904,\n",
       "  'high': 0.01369047619047619,\n",
       "  'highly': 0.011904761904761904,\n",
       "  'identified': 0.01011904761904762,\n",
       "  'known': 0.011904761904761904,\n",
       "  'large': 0.0125,\n",
       "  'risk': 0.016666666666666666,\n",
       "  'studies': 0.01607142857142857,\n",
       "  'system': 0.026785714285714288},\n",
       " {'animal': 0.018397626112759642,\n",
       "  'animals': 0.012462908011869434,\n",
       "  'early': 0.017210682492581602,\n",
       "  'host': 0.020178041543026704,\n",
       "  'infected': 0.014243323442136496,\n",
       "  'large': 0.011275964391691392,\n",
       "  'mortality': 0.011869436201780414,\n",
       "  'reported': 0.01661721068249258,\n",
       "  'species': 0.01780415430267062,\n",
       "  'studies': 0.014243323442136496,\n",
       "  'three': 0.020771513353115726,\n",
       "  'two': 0.013056379821958453,\n",
       "  'vaccine': 0.011869436201780414},\n",
       " {'although': 0.02190476190476191,\n",
       "  'assay': 0.020000000000000004,\n",
       "  'development': 0.022857142857142864,\n",
       "  'effective': 0.020000000000000004,\n",
       "  'highly': 0.025714285714285717,\n",
       "  'protein': 0.027619047619047626,\n",
       "  'related': 0.019047619047619053,\n",
       "  'vaccines': 0.022857142857142864,\n",
       "  'years': 0.020000000000000004},\n",
       " {'care': 0.026136363636363638,\n",
       "  'clinical': 0.03181818181818182,\n",
       "  'confirmed': 0.010227272727272725,\n",
       "  'critical': 0.010795454545454546,\n",
       "  'data': 0.011931818181818182,\n",
       "  'diagnosis': 0.01590909090909091,\n",
       "  'evidence': 0.010227272727272725,\n",
       "  'identify': 0.010227272727272725,\n",
       "  'information': 0.010227272727272725,\n",
       "  'lower': 0.010795454545454546,\n",
       "  'may': 0.010795454545454546,\n",
       "  'provide': 0.014204545454545454,\n",
       "  'several': 0.014204545454545454,\n",
       "  'studies': 0.012499999999999999},\n",
       " {'although': 0.019266055045871568,\n",
       "  'based': 0.017431192660550463,\n",
       "  'care': 0.020183486238532115,\n",
       "  'control': 0.021100917431192665,\n",
       "  'evidence': 0.02293577981651377,\n",
       "  'important': 0.02568807339449542,\n",
       "  'large': 0.020183486238532115,\n",
       "  'model': 0.021100917431192665,\n",
       "  'non': 0.03211009174311928},\n",
       " {'care': 0.01588447653429603,\n",
       "  'control': 0.025270758122743688,\n",
       "  'developed': 0.014440433212996394,\n",
       "  'early': 0.02310469314079423,\n",
       "  'effective': 0.014440433212996394,\n",
       "  'genome': 0.015162454873646211,\n",
       "  'low': 0.015162454873646211,\n",
       "  'major': 0.014440433212996394,\n",
       "  'need': 0.033212996389891704,\n",
       "  'reported': 0.014440433212996394,\n",
       "  'years': 0.014440433212996394},\n",
       " {'clinical': 0.06896551724137931,\n",
       "  'common': 0.026206896551724135,\n",
       "  'detection': 0.023448275862068966,\n",
       "  'diagnosis': 0.03172413793103448,\n",
       "  'effective': 0.023448275862068966,\n",
       "  'major': 0.026206896551724135},\n",
       " {},\n",
       " {}]"
      ]
     },
     "execution_count": 8,
     "metadata": {},
     "output_type": "execute_result"
    }
   ],
   "source": [
    "tasks_weights = []\n",
    "for t in tasks:\n",
    "    total = sum([value for key, value in t.items()])\n",
    "    weights = dict()\n",
    "    for key, value in t.items():\n",
    "        weights[key] = value / total * .2\n",
    "    tasks_weights.append(weights)\n",
    "tasks_weights"
   ]
  },
  {
   "cell_type": "code",
   "execution_count": 9,
   "metadata": {
    "collapsed": true
   },
   "outputs": [],
   "source": [
    "stops = {'of', 'to', 'the', 'for', 'in', 'on', 'and',\n",
    "         'is', 'will', 'Is', 'or', 'are', 'there', 'that', 'an', 'with',\n",
    "         'at', 'by', 'but', 'Are', 'be', 'this', 'if', 'they?'}\n",
    "\n",
    "def build_query(topic, task):\n",
    "    bm25_split = .8\n",
    "    bm25 = [b for b in topic if b not in stops]\n",
    "    \n",
    "    builder = pyquerybuilder.get_boolean_query_builder()\n",
    "    \n",
    "    for b in bm25:\n",
    "        b = pyquerybuilder.get_term_query(b)\n",
    "        boostquery = pyquerybuilder.get_boost_query(b, bm25_split/len(bm25))\n",
    "        builder.add(boostquery, pyquerybuilder.JBooleanClauseOccur['should'].value)\n",
    "        \n",
    "    for t, boost in task.items():\n",
    "        t = pyquerybuilder.get_term_query(t)\n",
    "        boostquery = pyquerybuilder.get_boost_query(t, boost)\n",
    "        builder.add(boostquery, pyquerybuilder.JBooleanClauseOccur['should'].value)\n",
    "        \n",
    "    return builder.build()"
   ]
  },
  {
   "cell_type": "code",
   "execution_count": 10,
   "metadata": {},
   "outputs": [
    {
     "name": "stderr",
     "output_type": "stream",
     "text": [
      "35it [00:50,  1.17s/it]\n"
     ]
    }
   ],
   "source": [
    "bm25_split = .8\n",
    "task_split = .2\n",
    "\n",
    "qrel_seen = 0\n",
    "total = 0\n",
    "filename = f'ru-tw-exp-rnd2.run' \n",
    "with open(filename, 'w') as f:\n",
    "    for topicno, topic in tqdm(enumerate(topics)):\n",
    "        task = tasks_weights[topic_task_no[topicno]]\n",
    "        topic = topic.split(' ')\n",
    "        query = build_query(topic, task)\n",
    "        hits = searcher.search(query, 5000)\n",
    "        i = 0\n",
    "        j = 0\n",
    "        seen = set()\n",
    "        while i < 100:\n",
    "            hit = hits[j]\n",
    "            if hit.docid.split('.')[0] in seen or hit.docid.split('.')[0] in judged[topicno+1] or hit.docid.split('.')[0] not in valid:\n",
    "                j+=1\n",
    "                continue\n",
    "            f.write(f'{topicno+1} Q0 {hit.docid.split(\".\")[0]} {i+1} {hit.score} {filename[:-4]}\\n')\n",
    "            i+=1\n",
    "            j+=1\n",
    "            seen |= {hit.docid.split('.')[0]}\n",
    "\n",
    "            if hit.docid.split('.')[0] in judged[topicno+1]:\n",
    "                qrel_seen +=1\n",
    "            total+=1"
   ]
  },
  {
   "cell_type": "code",
   "execution_count": 11,
   "metadata": {},
   "outputs": [
    {
     "data": {
      "text/plain": [
       "0"
      ]
     },
     "execution_count": 11,
     "metadata": {},
     "output_type": "execute_result"
    }
   ],
   "source": [
    "qrel_seen"
   ]
  },
  {
   "cell_type": "code",
   "execution_count": 12,
   "metadata": {},
   "outputs": [
    {
     "name": "stdout",
     "output_type": "stream",
     "text": [
      "1 Q0 sqrn6kjy 1 1.7396999597549438 ru-tn-exp-rnd2\r\n",
      "1 Q0 2054tkb7 2 1.7359000444412231 ru-tn-exp-rnd2\r\n",
      "1 Q0 xvfl7ycj 3 1.6239999532699585 ru-tn-exp-rnd2\r\n",
      "1 Q0 d6by9p41 4 1.62090003490448 ru-tn-exp-rnd2\r\n",
      "1 Q0 958u08vb 5 1.610200047492981 ru-tn-exp-rnd2\r\n",
      "1 Q0 16rgt4ca 6 1.5649000406265259 ru-tn-exp-rnd2\r\n",
      "1 Q0 zpiaka80 7 1.5645999908447266 ru-tn-exp-rnd2\r\n",
      "1 Q0 z9dolxky 8 1.55239999294281 ru-tn-exp-rnd2\r\n",
      "1 Q0 9jb3w0zu 9 1.5455000400543213 ru-tn-exp-rnd2\r\n",
      "1 Q0 0khg28ex 10 1.539199948310852 ru-tn-exp-rnd2\r\n"
     ]
    }
   ],
   "source": [
    "!head ru-tn-exp-rnd2.run"
   ]
  },
  {
   "cell_type": "code",
   "execution_count": 13,
   "metadata": {},
   "outputs": [
    {
     "name": "stdout",
     "output_type": "stream",
     "text": [
      "1 Q0 sqrn6kjy 1 1.8131999969482422 ru-t-exp-rnd2\r\n",
      "1 Q0 ne5r4d4b 2 1.7706999778747559 ru-t-exp-rnd2\r\n",
      "1 Q0 2054tkb7 3 1.7668999433517456 ru-t-exp-rnd2\r\n",
      "1 Q0 d6by9p41 4 1.7547999620437622 ru-t-exp-rnd2\r\n",
      "1 Q0 zqf351sv 5 1.7525999546051025 ru-t-exp-rnd2\r\n",
      "1 Q0 4iwddq2u 6 1.7404999732971191 ru-t-exp-rnd2\r\n",
      "1 Q0 jr255dwn 7 1.722100019454956 ru-t-exp-rnd2\r\n",
      "1 Q0 djclli8n 8 1.7196999788284302 ru-t-exp-rnd2\r\n",
      "1 Q0 imvbkt69 9 1.7128000259399414 ru-t-exp-rnd2\r\n",
      "1 Q0 431ksdno 10 1.7055000066757202 ru-t-exp-rnd2\r\n"
     ]
    }
   ],
   "source": [
    "!head ru-t-exp-rnd2.run"
   ]
  },
  {
   "cell_type": "code",
   "execution_count": 14,
   "metadata": {},
   "outputs": [
    {
     "name": "stdout",
     "output_type": "stream",
     "text": [
      "1 Q0 sqrn6kjy 1 1.7417999505996704 ru-tw-exp-rnd3\r\n",
      "1 Q0 ne5r4d4b 2 1.7325999736785889 ru-tw-exp-rnd3\r\n",
      "1 Q0 h8cemq2n 3 1.7266000509262085 ru-tw-exp-rnd3\r\n",
      "1 Q0 d6by9p41 4 1.7049000263214111 ru-tw-exp-rnd3\r\n",
      "1 Q0 wuegn0jg 5 1.6937999725341797 ru-tw-exp-rnd3\r\n",
      "1 Q0 pwvcwlh8 6 1.6830999851226807 ru-tw-exp-rnd3\r\n",
      "1 Q0 zqf351sv 7 1.676200032234192 ru-tw-exp-rnd3\r\n",
      "1 Q0 2054tkb7 8 1.6756999492645264 ru-tw-exp-rnd3\r\n",
      "1 Q0 xxblr8qd 9 1.6660000085830688 ru-tw-exp-rnd3\r\n",
      "1 Q0 3dlukfho 10 1.6649999618530273 ru-tw-exp-rnd3\r\n"
     ]
    }
   ],
   "source": [
    "!head ru-tw-exp-rnd3.run"
   ]
  },
  {
   "cell_type": "code",
   "execution_count": null,
   "metadata": {
    "collapsed": true
   },
   "outputs": [],
   "source": []
  }
 ],
 "metadata": {
  "kernelspec": {
   "display_name": "Python 3",
   "language": "python",
   "name": "python3"
  },
  "language_info": {
   "codemirror_mode": {
    "name": "ipython",
    "version": 3
   },
   "file_extension": ".py",
   "mimetype": "text/x-python",
   "name": "python",
   "nbconvert_exporter": "python",
   "pygments_lexer": "ipython3",
   "version": "3.6.1"
  }
 },
 "nbformat": 4,
 "nbformat_minor": 2
}
