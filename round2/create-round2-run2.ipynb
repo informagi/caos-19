{
 "cells": [
  {
   "cell_type": "code",
   "execution_count": 1,
   "metadata": {
    "collapsed": true
   },
   "outputs": [],
   "source": [
    "import xml.etree.ElementTree as Et\n",
    "\n",
    "from pyserini.search import pysearch\n",
    "from pyserini.search import pyquerybuilder\n",
    "from tqdm import tqdm\n",
    "from collections import defaultdict\n",
    "from pprint import pprint\n",
    "\n",
    "import subprocess\n",
    "\n",
    "from pyserini.pyclass import autoclass\n",
    "from pyserini.analysis.pyanalysis import get_lucene_analyzer"
   ]
  },
  {
   "cell_type": "code",
   "execution_count": 2,
   "metadata": {
    "collapsed": true
   },
   "outputs": [],
   "source": [
    "searcher = pysearch.SimpleSearcher('/home/chris/data/anserini/lucene-index-cord19-paragraph-2020-05-01/')"
   ]
  },
  {
   "cell_type": "code",
   "execution_count": 3,
   "metadata": {
    "collapsed": true
   },
   "outputs": [],
   "source": [
    "docid_path = 'docids-rnd2.txt'\n",
    "valid = set()\n",
    "with open(docid_path, 'r') as f:\n",
    "    for line in f:\n",
    "        valid |= {line.strip()}"
   ]
  },
  {
   "cell_type": "code",
   "execution_count": 4,
   "metadata": {
    "collapsed": true
   },
   "outputs": [],
   "source": [
    "topics_path = '/home/chris/data/topics/topics-rnd2.xml'\n",
    "qrel_path = '/home/chris/data/qrels/qrels-rnd1.txt'"
   ]
  },
  {
   "cell_type": "code",
   "execution_count": 5,
   "metadata": {
    "collapsed": true
   },
   "outputs": [],
   "source": [
    "tree = Et.parse(topics_path)\n",
    "root = tree.getroot()\n",
    "topics = [root[i][0].text for i in range(35)]\n",
    "nars =  [root[i][1].text for i in range(35)]"
   ]
  },
  {
   "cell_type": "code",
   "execution_count": 6,
   "metadata": {
    "collapsed": true
   },
   "outputs": [],
   "source": [
    "judged = defaultdict(set)\n",
    "with open(qrel_path, 'r') as f:\n",
    "    for line in f:\n",
    "        topicno, iteration, empty, docid, relevance = line.strip().split(' ')\n",
    "        judged[int(topicno)] |= {docid}"
   ]
  },
  {
   "cell_type": "code",
   "execution_count": 7,
   "metadata": {
    "collapsed": true
   },
   "outputs": [],
   "source": [
    "tasks = [\n",
    "    ['environmental transmission', 'incubation', 'contagious', 'persistence', 'stability', 'physical', 'weather',\n",
    "     'epidemiology', 'shedding', 'reproductive number', 'modes of transmission', 'virulent', 'asymptomatic', 'pathogen',\n",
    "     'evolutionary host', 'transmission host'],\n",
    "    ['smoking', 'risk', 'pulmonary', 'pre-condition', 'co-infection', 'high-risk', 'severe', 'susceptible', 'fatality',\n",
    "     'neonates', 'respitory', 'condition', 'pre-existing', 'pregnant', 'morbidities'],\n",
    "    ['human-animal', 'origin', 'genetics', 'evolution', 'genome', 'sample sets', 'genomic', 'strain', 'livestock',\n",
    "     'animal host', 'natural history', 'genetic drift', 'mutation', 'genomics', 'sequencing'],\n",
    "    ['vaccine', 'therapeutic', 'treat', 'drugs', 'pharmaceuticals', 'recipients', 'ADE', 'complication', 'antiviral',\n",
    "     'prophylaxis', 'cloroquine', 'vaccination', 'immume respone'],\n",
    "    ['medical care', 'surge capacity', 'nursing home', 'allocation', 'personal protective equirement',\n",
    "     'clinical characterization', 'nursing', 'care', 'Extracorporeal membrane oxygenation', 'ECMO',\n",
    "     'mechanical ventilation', 'extrapulmonary manifestations', 'cardiomyopathy', 'cardiac arrest',\n",
    "     'regulatory standards', 'N95 masks', 'elastomeric respirators', 'telemedicine', 'steroids', 'high flow oxygen',\n",
    "     'supportive interventions'],\n",
    "    ['NPI', 'non-pharmaceutical intervention', 'school closure', 'travel ban', 'quarantine', 'mass gathering',\n",
    "     'social distancing', 'public health advice', 'economic impact'],\n",
    "    ['counties', 'geographic', 'geography', 'mortality rate', 'spread', 'mutations'],\n",
    "    ['diagnostic', 'surveillance', 'detection', 'screening', 'ELISAs', 'capacity', 'testing', 'point-of-care',\n",
    "     'rapid testing', 'pathogen', 'reagent', 'cytokines', 'response markers', 'swabs'],\n",
    "    ['ethical', 'social science', 'principles', 'standards', 'ethics', 'psychological health', 'fear', 'anxiety',\n",
    "     'stigma', 'sociology'],\n",
    "    ['collaboration', 'nomenclature', 'data standards', 'information sharing', 'communication', 'collaborate',\n",
    "     'coordination', 'misunderstanding', 'action plan']\n",
    "]\n",
    "\n",
    "topic_task_no = [2,0,3,0,3,6,3,6,7,5,4,5,0,0,0,0,3,5,5,1,0,0,1,1,6,6,6,3,3,3,2,2,3,1,9]"
   ]
  },
  {
   "cell_type": "code",
   "execution_count": 8,
   "metadata": {
    "collapsed": true
   },
   "outputs": [],
   "source": [
    "stops = {'of', 'to', 'the', 'for', 'in', 'on', 'and',\n",
    "         'is', 'will', 'Is', 'or', 'are', 'there', 'that', 'an', 'with',\n",
    "         'at', 'by', 'but', 'Are', 'be', 'this', 'if', 'they?'}\n",
    "\n",
    "def build_query(bm25, nars, task, bm25_split, nars_split, task_split):\n",
    "    bm25 = [b for b in bm25 if b not in stops]\n",
    "    task = [t for t in task if t not in stops]\n",
    "    nars = [n for n in nars if n not in stops]\n",
    "    \n",
    "    builder = pyquerybuilder.get_boolean_query_builder()\n",
    "    \n",
    "    for b in bm25:\n",
    "        b = pyquerybuilder.get_term_query(b)\n",
    "        boostquery = pyquerybuilder.get_boost_query(b, bm25_split/len(bm25))\n",
    "        builder.add(boostquery, pyquerybuilder.JBooleanClauseOccur['should'].value)\n",
    "        \n",
    "    for t in task:\n",
    "        t = pyquerybuilder.get_term_query(t)\n",
    "        boostquery = pyquerybuilder.get_boost_query(t, task_split/len(task))\n",
    "        builder.add(boostquery, pyquerybuilder.JBooleanClauseOccur['should'].value)\n",
    "        \n",
    "    for n in nars:\n",
    "        try:\n",
    "            n = pyquerybuilder.get_term_query(n)\n",
    "        except:\n",
    "            print(n)\n",
    "            continue\n",
    "        boostquery = pyquerybuilder.get_boost_query(n, nars_split/len(nars))\n",
    "        builder.add(boostquery, pyquerybuilder.JBooleanClauseOccur['should'].value)\n",
    "        \n",
    "    return builder.build()"
   ]
  },
  {
   "cell_type": "code",
   "execution_count": 9,
   "metadata": {},
   "outputs": [
    {
     "name": "stderr",
     "output_type": "stream",
     "text": [
      "15it [00:31,  2.41s/it]"
     ]
    },
    {
     "name": "stdout",
     "output_type": "stream",
     "text": [
      "\n"
     ]
    },
    {
     "name": "stderr",
     "output_type": "stream",
     "text": [
      "35it [00:59,  1.25s/it]\n"
     ]
    }
   ],
   "source": [
    "bm25_split = .60\n",
    "nar_split = .25\n",
    "task_split = .15\n",
    "\n",
    "\n",
    "qrel_seen = 0\n",
    "total = 0\n",
    "filename = f'ru-tn-exp-rnd2.run' \n",
    "with open(filename, 'w') as f:\n",
    "    for topicno, topic in tqdm(enumerate(topics)):\n",
    "        task = tasks[topic_task_no[topicno]]\n",
    "        topic = topic.split(' ')\n",
    "        nar = nars[topicno]\n",
    "        nar = nar.split(' ')\n",
    "        new_task = []\n",
    "        for t in task:\n",
    "            for nt in t.split(' '):\n",
    "                new_task.append(nt)\n",
    "        task = new_task\n",
    "        query = build_query(topic, nar, task, bm25_split, nar_split, task_split)\n",
    "        hits = searcher.search(query, 5000)\n",
    "        i = 0\n",
    "        j = 0\n",
    "        seen = set()\n",
    "        while i < 100:\n",
    "            hit = hits[j]\n",
    "            if hit.docid.split('.')[0] in seen or hit.docid.split('.')[0] in judged[topicno+1] or hit.docid.split('.')[0] not in valid:\n",
    "                j+=1\n",
    "                continue\n",
    "            f.write(f'{topicno+1} Q0 {hit.docid.split(\".\")[0]} {i+1} {hit.score} {filename[:-4]}\\n')\n",
    "            i+=1\n",
    "            j+=1\n",
    "            seen |= {hit.docid.split('.')[0]}\n",
    "\n",
    "            if hit.docid.split('.')[0] in judged[topicno+1]:\n",
    "                qrel_seen +=1\n",
    "            total+=1"
   ]
  },
  {
   "cell_type": "code",
   "execution_count": 10,
   "metadata": {},
   "outputs": [
    {
     "data": {
      "text/plain": [
       "0"
      ]
     },
     "execution_count": 10,
     "metadata": {},
     "output_type": "execute_result"
    }
   ],
   "source": [
    "qrel_seen"
   ]
  },
  {
   "cell_type": "code",
   "execution_count": 11,
   "metadata": {},
   "outputs": [
    {
     "name": "stdout",
     "output_type": "stream",
     "text": [
      "1 Q0 sqrn6kjy 1 1.7396999597549438 ru-tn-exp-rnd2\r\n",
      "1 Q0 2054tkb7 2 1.7359000444412231 ru-tn-exp-rnd2\r\n",
      "1 Q0 xvfl7ycj 3 1.6239999532699585 ru-tn-exp-rnd2\r\n",
      "1 Q0 d6by9p41 4 1.62090003490448 ru-tn-exp-rnd2\r\n",
      "1 Q0 958u08vb 5 1.610200047492981 ru-tn-exp-rnd2\r\n",
      "1 Q0 16rgt4ca 6 1.5649000406265259 ru-tn-exp-rnd2\r\n",
      "1 Q0 zpiaka80 7 1.5645999908447266 ru-tn-exp-rnd2\r\n",
      "1 Q0 z9dolxky 8 1.55239999294281 ru-tn-exp-rnd2\r\n",
      "1 Q0 9jb3w0zu 9 1.5455000400543213 ru-tn-exp-rnd2\r\n",
      "1 Q0 0khg28ex 10 1.539199948310852 ru-tn-exp-rnd2\r\n"
     ]
    }
   ],
   "source": [
    "!head ru-tn-exp-rnd2.run"
   ]
  },
  {
   "cell_type": "code",
   "execution_count": 12,
   "metadata": {},
   "outputs": [
    {
     "name": "stdout",
     "output_type": "stream",
     "text": [
      "1 Q0 sqrn6kjy 1 1.8131999969482422 ru-t-exp-rnd2\r\n",
      "1 Q0 ne5r4d4b 2 1.7706999778747559 ru-t-exp-rnd2\r\n",
      "1 Q0 2054tkb7 3 1.7668999433517456 ru-t-exp-rnd2\r\n",
      "1 Q0 d6by9p41 4 1.7547999620437622 ru-t-exp-rnd2\r\n",
      "1 Q0 zqf351sv 5 1.7525999546051025 ru-t-exp-rnd2\r\n",
      "1 Q0 4iwddq2u 6 1.7404999732971191 ru-t-exp-rnd2\r\n",
      "1 Q0 jr255dwn 7 1.722100019454956 ru-t-exp-rnd2\r\n",
      "1 Q0 djclli8n 8 1.7196999788284302 ru-t-exp-rnd2\r\n",
      "1 Q0 imvbkt69 9 1.7128000259399414 ru-t-exp-rnd2\r\n",
      "1 Q0 431ksdno 10 1.7055000066757202 ru-t-exp-rnd2\r\n"
     ]
    }
   ],
   "source": [
    "!head ru-t-exp-rnd2.run"
   ]
  },
  {
   "cell_type": "code",
   "execution_count": null,
   "metadata": {
    "collapsed": true
   },
   "outputs": [],
   "source": []
  }
 ],
 "metadata": {
  "kernelspec": {
   "display_name": "Python 3",
   "language": "python",
   "name": "python3"
  },
  "language_info": {
   "codemirror_mode": {
    "name": "ipython",
    "version": 3
   },
   "file_extension": ".py",
   "mimetype": "text/x-python",
   "name": "python",
   "nbconvert_exporter": "python",
   "pygments_lexer": "ipython3",
   "version": "3.6.1"
  }
 },
 "nbformat": 4,
 "nbformat_minor": 2
}
