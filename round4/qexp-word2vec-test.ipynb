{
 "cells": [
  {
   "cell_type": "code",
   "execution_count": 237,
   "metadata": {},
   "outputs": [],
   "source": [
    "#how does word2vec work for query expansion and for synonyms?\n",
    "from gensim.models import Word2Vec\n",
    "from gensim.test.utils import get_tmpfile\n",
    "from gensim.models import KeyedVectors\n",
    "from gensim.summarization.textcleaner import get_sentences#clean_text_by_sentences\n",
    "\n",
    "import pandas as pd\n",
    "import numpy as np\n",
    "\n",
    "from tqdm import tqdm\n",
    "import xml.etree.ElementTree as Et\n",
    "from collections import defaultdict\n",
    "\n",
    "from sklearn.model_selection import KFold\n",
    "from sklearn.metrics import ndcg_score\n",
    "\n",
    "import os\n",
    "import re\n",
    "import string"
   ]
  },
  {
   "cell_type": "code",
   "execution_count": 238,
   "metadata": {},
   "outputs": [],
   "source": [
    "from pyserini.search import pysearch\n",
    "from pyserini.search import pyquerybuilder\n",
    "from pyserini.pyclass import autoclass\n",
    "from pyserini.analysis.pyanalysis import get_lucene_analyzer\n",
    "from pyserini.index import pyutils\n",
    "from pyserini.analysis import pyanalysis\n",
    "\n",
    "index_loc = '/home/tmschoegje/Desktop/caos-19/lucene-index-cord19-paragraph-2020-05-19/'\n",
    "searcher = pysearch.SimpleSearcher(index_loc)\n",
    "index_utils = pyutils.IndexReaderUtils(index_loc)"
   ]
  },
  {
   "cell_type": "code",
   "execution_count": 239,
   "metadata": {},
   "outputs": [
    {
     "name": "stderr",
     "output_type": "stream",
     "text": [
      "/usr/lib/python3/dist-packages/IPython/core/interactiveshell.py:2822: DtypeWarning: Columns (13,14) have mixed types.Specify dtype option on import or set low_memory=False.\n",
      "  if self.run_code(code, result):\n"
     ]
    },
    {
     "name": "stdout",
     "output_type": "stream",
     "text": [
      "Loaded word2vec model ../word2vec7.model\n",
      "ready\n"
     ]
    }
   ],
   "source": [
    "#train model on paper abstracts\n",
    "\n",
    "#load metadata.csv\n",
    "def prepTREC(fname):\n",
    "    #get valid TREC ids for this round\n",
    "    TRECids = []\n",
    "    f = open(fname)\n",
    "    for line in f.readlines():\n",
    "        if line[-1] == '\\n':\n",
    "            line = line[:-1]\n",
    "        TRECids.append(line)\n",
    "    f.close()\n",
    "    \n",
    "    metadata = pd.read_csv(\"/home/tmschoegje/Desktop/caos-19/metadata.csv\")\n",
    "    #now we filter all TREC ids we don't need\n",
    "    #print(np.array(metadata).shape)\n",
    "    #print(np.array(TRECids).shape)\n",
    "######    metadata = metadata[metadata.cord_uid.isin(TRECids)]\n",
    "    #there's 33 duplicates (same paper from multiple sources)\n",
    "    metadata.drop_duplicates(subset='cord_uid', keep='first', inplace=True)\n",
    "    \n",
    "    return metadata\n",
    "\n",
    "def prep_w2v(fname, data):\n",
    "    #Check if a model exists\n",
    "    if(os.path.isfile(fname)):\n",
    "        print(\"Loaded word2vec model \" + fname)\n",
    "        word_vectors = KeyedVectors.load(fname)\n",
    "    else:\n",
    "        print(\"Training word2vec model \" + fname)\n",
    "        \n",
    "        #Remove items with bad abstracts\n",
    "        docs = data[~data.abstract.isin([\"Unknown\", \"unknown\", \"\"])]\n",
    "        #remove items with mising abstracts\n",
    "        docs = data[~data.abstract.isnull()]\n",
    "        metadatana = docs\n",
    "        docvals = docs['abstract']\n",
    "        \n",
    "        #join all docs into a large doc\n",
    "        #docvals = \" . \".join( docvals.values.tolist())\n",
    "        docs = docvals.values.tolist()\n",
    "        \n",
    "        tokenized = []\n",
    "        for doc in docs:\n",
    "            sentences = get_sentences(doc)\n",
    "            for sent in sentences:\n",
    "                tokenized.append(sent.translate(str.maketrans('', '', string.punctuation)).split())\n",
    "        \n",
    "        model = Word2Vec(tokenized, size=100, window=5, min_count=5, workers=4)\n",
    "        word_vectors = model.wv\n",
    "        word_vectors.save(fname)\n",
    "        \n",
    "    print('ready')\n",
    "    return word_vectors\n",
    "        \n",
    "word_vectors = prep_w2v(\"../word2vec7.model\", prepTREC('../trecdata/docids-rnd3.txt'))"
   ]
  },
  {
   "cell_type": "code",
   "execution_count": 240,
   "metadata": {},
   "outputs": [
    {
     "name": "stdout",
     "output_type": "stream",
     "text": [
      "[('accessibility', 0.5386149883270264), ('acceptance', 0.5321283340454102), ('insurance', 0.5319286584854126), ('price', 0.5314955711364746), ('incomes', 0.5182398557662964), ('campaigns', 0.5108014941215515), ('compliance', 0.5098401308059692), ('cost', 0.5023601055145264), ('density', 0.4933677315711975), ('poverty', 0.4841878414154053)]\n",
      "\n",
      "['accessibility', 'acceptance', 'insurance', 'price', 'incomes']\n"
     ]
    }
   ],
   "source": [
    "#qexp based on short task descriptions\n",
    "#print(model.wv)\n",
    "#word_vectors.similar_by_word(\"genetics\")\n",
    "similars = word_vectors.most_similar(positive=['coverage'])\n",
    "print(similars)\n",
    "print()\n",
    "print([w[0] for w in similars][:5])\n",
    "\n",
    "#optional extension: https://radimrehurek.com/gensim/models/phrases.html#module-gensim.models.phrases"
   ]
  },
  {
   "cell_type": "code",
   "execution_count": 241,
   "metadata": {},
   "outputs": [
    {
     "name": "stdout",
     "output_type": "stream",
     "text": [
      "['hello', 'this', 'is', 'a', 'document']\n",
      "['two', 'sentences', 'here']\n"
     ]
    }
   ],
   "source": [
    "#qexp based on query terms in topic (i think this idea came from faegheh)\n",
    "test=\"hello this is a document. two sentences here.\"\n",
    "sentences = get_sentences(test)\n",
    "input = []\n",
    "for sent in sentences:\n",
    "    print(sent.translate(str.maketrans('', '', string.punctuation)).split())"
   ]
  },
  {
   "cell_type": "code",
   "execution_count": 262,
   "metadata": {},
   "outputs": [],
   "source": [
    "# So let's see how this works for expansion\n",
    "\n",
    "stops = {'of', 'to', 'the', 'for', 'in', 'on', 'and',\n",
    "         'is', 'will', 'Is', 'or', 'are', 'there', 'that', 'an', 'with',\n",
    "         'at', 'by', 'but', 'Are', 'be', 'this', 'if', 'they?', 'they',\n",
    "         \"a\", \"an\", \"and\", \"are\", \"as\", \"at\", \"be\", \"but\", \"by\",\n",
    "\"for\", \"if\", \"in\", \"into\", \"is\", \"it\",\n",
    "\"no\", \"not\", \"of\", \"on\", \"or\", \"such\",\n",
    "\"that\", \"the\", \"their\", \"then\", \"there\", \"these\",\n",
    "\"they\", \"this\", \"to\", \"was\", \"will\", \"with\", \"The\"}\n",
    "\n",
    "#where do we base our terms in this expansion?\n",
    "task_version = \"tfidf\"\n",
    "#task_version = \"qexp\"\n",
    "\n",
    "#query_version = \"query\"\n",
    "query_version = \"qexp\"\n",
    "\n",
    "#return n similar terms to term\n",
    "def term_expansion(term, n):\n",
    "    if type(term) == str:\n",
    "        if term in word_vectors.vocab:\n",
    "            similars = word_vectors.most_similar(positive=[term])\n",
    "            return ([w[0] for w in similars][:n])\n",
    "    return []\n",
    "\n",
    "def build_query(bm25, nars, task, bm25_split, nars_split, task_split, task_confidence, task_id):\n",
    "    if(query_version == \"query\"):\n",
    "        bm25 = [b for b in bm25 if b.lower() not in stops]\n",
    "    elif(query_version == \"qexp\"):\n",
    "        newterms = []\n",
    "        for term in bm25:\n",
    "            newterms.extend(term_expansion(term, 3))\n",
    "        bm25.extend(newterms)\n",
    "        bm25 = [b for b in bm25 if b.lower() not in stops]\n",
    "    \n",
    "    if(task_version == \"tfidf\"):\n",
    "        task = [t for t in task if t not in stops]\n",
    "    elif(task_version == \"qexp\"):\n",
    "        #expand based on doc2vec - add 3 terms\n",
    "        newterms = []\n",
    "        for term in list_of_tasks_short[task_id].split():\n",
    "            newterms.extend(term_expansion(term, 3))\n",
    "        task = list_of_tasks_short[task_id].split()\n",
    "        \n",
    "        task.extend(newterms)\n",
    "        task = [t for t in task if t.lower() not in stops]\n",
    "    nars = [n for n in nars if n.lower() not in stops]\n",
    "    \n",
    "    builder = pyquerybuilder.get_boolean_query_builder()\n",
    "    \n",
    "    for b in bm25:\n",
    "        b = pyquerybuilder.get_term_query(b)\n",
    "        boostquery = pyquerybuilder.get_boost_query(b, bm25_split/len(bm25))\n",
    "        builder.add(boostquery, pyquerybuilder.JBooleanClauseOccur['should'].value)\n",
    "\n",
    "    #using terms from kaggle tasks\n",
    "    #if(task_confidence > 0.6):\n",
    "    for t in task:\n",
    "        t = pyquerybuilder.get_term_query(t)\n",
    "        boostquery = pyquerybuilder.get_boost_query(t, task_split/len(task) )#* task_confidence\n",
    "        builder.add(boostquery, pyquerybuilder.JBooleanClauseOccur['should'].value)\n",
    "    #print(task)\n",
    "    #using terms from qrel docs\n",
    "    #if(task_confidence > 0.8):\n",
    "    #    for t, boost in task.items():\n",
    "    #        t = pyquerybuilder.get_term_query(t)\n",
    "    #        boostquery = pyquerybuilder.get_boost_query(t, task_split/boost)\n",
    "    #        builder.add(boostquery, pyquerybuilder.JBooleanClauseOccur['should'].value)\n",
    "        \n",
    "    for n in nars:\n",
    "        try:\n",
    "            n = pyquerybuilder.get_term_query(n)\n",
    "        except:\n",
    "            print(n)\n",
    "            continue\n",
    "        boostquery = pyquerybuilder.get_boost_query(n, nars_split/len(nars))\n",
    "        builder.add(boostquery, pyquerybuilder.JBooleanClauseOccur['should'].value)\n",
    "        \n",
    "    return builder.build()"
   ]
  },
  {
   "cell_type": "code",
   "execution_count": 263,
   "metadata": {},
   "outputs": [],
   "source": [
    "#some constants\n",
    "\n",
    "tasks = [\n",
    "    ['environmental transmission', 'incubation', 'contagious', 'persistence', 'stability', 'physical', 'weather',\n",
    "     'epidemiology', 'shedding', 'reproductive number', 'modes of transmission', 'virulent', 'asymptomatic', 'pathogen',\n",
    "     'evolutionary host', 'transmission host'],\n",
    "    ['smoking', 'risk', 'pulmonary', 'pre-condition', 'co-infection', 'high-risk', 'severe', 'susceptible', 'fatality',\n",
    "     'neonates', 'respitory', 'condition', 'pre-existing', 'pregnant', 'morbidities'],\n",
    "    ['human-animal', 'origin', 'genetics', 'evolution', 'genome', 'sample sets', 'genomic', 'strain', 'livestock',\n",
    "     'animal host', 'natural history', 'genetic drift', 'mutation', 'genomics', 'sequencing'],\n",
    "    ['vaccine', 'therapeutic', 'treat', 'drugs', 'pharmaceuticals', 'recipients', 'ADE', 'complication', 'antiviral',\n",
    "     'prophylaxis', 'cloroquine', 'vaccination', 'immume respone'],\n",
    "    ['medical care', 'surge capacity', 'nursing home', 'allocation', 'personal protective equirement',\n",
    "     'clinical characterization', 'nursing', 'care', 'Extracorporeal membrane oxygenation', 'ECMO',\n",
    "     'mechanical ventilation', 'extrapulmonary manifestations', 'cardiomyopathy', 'cardiac arrest',\n",
    "     'regulatory standards', 'N95 masks', 'elastomeric respirators', 'telemedicine', 'steroids', 'high flow oxygen',\n",
    "     'supportive interventions'],\n",
    "    ['NPI', 'non-pharmaceutical intervention', 'school closure', 'travel ban', 'quarantine', 'mass gathering',\n",
    "     'social distancing', 'public health advice', 'economic impact'],\n",
    "    ['counties', 'geographic', 'geography', 'mortality rate', 'spread', 'mutations'],\n",
    "    ['diagnostic', 'surveillance', 'detection', 'screening', 'ELISAs', 'capacity', 'testing', 'point-of-care',\n",
    "     'rapid testing', 'pathogen', 'reagent', 'cytokines', 'response markers', 'swabs'],\n",
    "    ['ethical', 'social science', 'principles', 'standards', 'ethics', 'psychological health', 'fear', 'anxiety',\n",
    "     'stigma', 'sociology'],\n",
    "    ['collaboration', 'nomenclature', 'data standards', 'information sharing', 'communication', 'collaborate',\n",
    "     'coordination', 'misunderstanding', 'action plan']\n",
    "]\n",
    "\n",
    "#classification with confidence\n",
    "rnd3classes = [2, 0, 3, 0, 3, 7, 7, 7, 6, 5, 4, 5, 0, 0, 0, 0, 4, 5, 5, 1, 0, 1, 1, 1, 1, 7, 7, 3, 3, 3, 2, 2, 3, 3, 9, 2, 2, 3, 3, 2]\n",
    "rnd3confidence = [1, 1, 1, 0.5, 0.5, 1, 1, 0.5, 0.5, 1, 0, 0.5, 1, 0, 1, 1, 0.75, 0.25, 0.25, 0.5, 0.5, 0.75, 0.75, 0.75, 0.75, 1, 0.5, 1, 1, 1, 0, 1, 1, 0, 0, 0.5, 1, 0, 0, 1]\n",
    "\n",
    "\n",
    "#adapted from constants.py\n",
    "#has the contstants we use for doc2vec reranking\n",
    "\n",
    "#these were defined before\n",
    "#rnd1classes = [2,0,3,0,3,6,3,6,7,5,4,5,0,0,0,0,6,5,5,1,0,0,1,1,1,6,6,3,3,3]\n",
    "#rnd3classes = [2,0,3,0,3,7,7,7,6,5,4,5,0,0,0,0,4,5,5,1,0,1,1,1,1,7,7,3,3,3,, 2, 3, 3, 9, 2, 2, 3, 3, 2]\n",
    "#rnd2classes = [2,0,3,0,3,6,3,6,7,5,4,5,0,0,0,0,3,5,5,1,0,0,1,1,6,6,6,3,3,3,2,2,3,1,9]\n",
    "#rnd3confidence = [1, 1, 1, 0.5, 0.5, 1, 1, 0.5, 0.5, 1, 0, 0.5, 1, 0, 1, 1, 0.75, 0.25, 0.25, 0.5, 0.5, 0.75, 0.75, 0.75, 0.75, 1, 0.5, 1, 1, 1, 0, 1, 1, 0, 0, 0.5, 1, 0, 0, 1]\n",
    "\n",
    "task_1_short = \"transmission incubation environment\"\n",
    "task_2_short = \"risk factors\"\n",
    "task_3_short = \"genetics origin evolution\"\n",
    "task_4_short = \"vaccines therapeutics\"\n",
    "task_5_short = \"medical care\"\n",
    "task_6_short = \"effectiveness non pharmaceutical interventions\"\n",
    "task_7_short = \"diagnostics surveillance\"\n",
    "task_8_short = \"geographic spread\"\n",
    "task_9_short = \"ethical social considerations\"\n",
    "task_10_short = \"information sharing collaboration\"\n",
    "\n",
    "task_1 = \"What is known about transmission, incubation, and environmental stability? What do we know about natural history, transmission, and diagnostics for the virus? What have we learned about infection prevention and control? Range of incubation periods for the disease in humans (and how this varies across age and health status) and how long individuals are contagious, even after recovery. Prevalence of asymptomatic shedding and transmission (e.g., particularly children). Seasonality of transmission. Physical science of the coronavirus (e.g., charge distribution, adhesion to hydrophilic/phobic surfaces, environmental survival to inform decontamination efforts for affected areas and provide information about viral shedding). Persistence and stability on a multitude of substrates and sources (e.g., nasal discharge, sputum, urine, fecal matter, blood). Persistence of virus on surfaces of different materials (e,g., copper, stainless steel, plastic). Natural history of the virus and shedding of it from an infected person. Implementation of diagnostics and products to improve clinical processes. Disease models, including animal models for infection, disease and transmission. Tools and studies to monitor phenotypic change and potential adaptation of the virus. Immune response and immunity. Effectiveness of movement control strategies to prevent secondary transmission in health care and community settings. Effectiveness of personal protective equipment (PPE) and its usefulness to reduce risk of transmission in health care and community settings. Role of the environment in transmission\"\n",
    "task_2 = \"What do we know about COVID-19 risk factors? What have we learned from epidemiological studies? Data on potential risks factors. Smoking, pre-existing pulmonary disease. Co-infections (determine whether co-existing respiratory/viral infections make the virus more transmissible or virulent) and other co-morbidities. Neonates and pregnant women. Socio-economic and behavioral factors to understand the economic impact of the virus and whether there were differences. Transmission dynamics of the virus, including the basic reproductive number, incubation period, serial interval, modes of transmission and environmental factors. Severity of disease, including risk of fatality among symptomatic hospitalized patients, and high-risk patient groups. Susceptibility of populations. Public health mitigation measures that could be effective for control.\"\n",
    "task_3 = \"What do we know about virus genetics, origin, and evolution? What do we know about the virus origin and management measures at the human-animal interface? Real-time tracking of whole genomes and a mechanism for coordinating the rapid dissemination of that information to inform the development of diagnostics and therapeutics and to track variations of the virus over time. Access to geographic and temporal diverse sample sets to understand geographic distribution and genomic differences, and determine whether there is more than one strain in circulation. Multi-lateral agreements such as the Nagoya Protocol could be leveraged. Evidence that livestock could be infected (e.g., field surveillance, genetic sequencing, receptor binding) and serve as a reservoir after the epidemic appears to be over. Evidence of whether farmers are infected, and whether farmers could have played a role in the origin. Surveillance of mixed wildlife- livestock farms for SARS-CoV-2 and other coronaviruses in Southeast Asia. Experimental infections to test host range for this pathogen. Animal host(s) and any evidence of continued spill-over to humans. Socioeconomic and behavioral risk factors for this spill-over. Sustainable risk reduction strategies\"\n",
    "task_4 = \"What do we know about vaccines and therapeutics? What has been published concerning research and development and evaluation efforts of vaccines and therapeutics? Effectiveness of drugs being developed and tried to treat COVID-19 patients. Clinical and bench trials to investigate less common viral inhibitors against COVID-19 such as naproxen, clarithromycin, and minocycline that that may exert effects on viral replication. Methods evaluating potential complication of Antibody-Dependent Enhancement (ADE) in vaccine recipients. Exploration of use of best animal models and their predictive value for a human vaccine. Capabilities to discover a therapeutic (not vaccine) for the disease, and clinical effectiveness studies to discover therapeutics, to include antiviral agents. Alternative models to aid decision makers in determining how to prioritize and distribute scarce, newly proven therapeutics as production ramps up. This could include identifying approaches for expanding production capacity to ensure equitable and timely distribution to populations in need. Efforts targeted at a universal coronavirus vaccine. Efforts to develop animal models and standardize challenge studies. Efforts to develop prophylaxis clinical studies and prioritize in healthcare workers. Approaches to evaluate risk for enhanced disease after vaccination. Assays to evaluate vaccine immune response and process development for vaccines, alongside suitable animal models in conjunction with therapeutics.\"\n",
    "task_5 = \"What has been published about medical care? What has been published concerning surge capacity and nursing homes? What has been published concerning efforts to inform allocation of scarce resources? What do we know about personal protective equipment? What has been published concerning alternative methods to advise on disease management? What has been published concerning processes of care? What do we know about the clinical characterization and management of the virus? Resources to support skilled nursing facilities and long term care facilities. Mobilization of surge medical staff to address shortages in overwhelmed communities. Age-adjusted mortality data for Acute Respiratory Distress Syndrome (ARDS) with/without other organ failure – particularly for viral etiologies. Extracorporeal membrane oxygenation (ECMO) outcomes data of COVID-19 patients. Outcomes data for COVID-19 after mechanical ventilation adjusted for age. Application of regulatory standards (e.g., EUA, CLIA) and ability to adapt care to crisis standards of care level. Approaches for encouraging and facilitating the production of elastomeric respirators, which can save thousands of N95 masks. Best telemedicine practices, barriers and facilitators, and specific actions to remove/expand them within and across state boundaries. Guidance on the simple things people can do at home to take care of sick people and manage disease. Oral medications that might potentially work. Use of AI in real-time health care delivery to evaluate interventions, risk factors, and outcomes in a way that could not be done manually. Best practices and critical challenges and innovative solutions and technologies in hospital flow and organization, workforce protection, workforce allocation, community-based support resources, payment, and supply chain management to enhance capacity, efficiency, and outcomes. Efforts to define the natural history of disease to inform clinical care, public health interventions, infection prevention control, transmission, and clinical trials. Efforts to develop a core clinical outcome set to maximize usability of data across a range of trials. Efforts to determine adjunctive and supportive interventions that can improve the clinical outcomes of infected patients (e.g. steroids, high flow oxygen). \"\n",
    "task_6 = \"What do we know about the effectiveness of non-pharmaceutical interventions? What is known about equity and barriers to compliance for non-pharmaceutical interventions? Guidance on ways to scale up NPIs in a more coordinated way (e.g., establish funding, infrastructure and authorities to support real time, authoritative (qualified participants) collaboration with all states to gain consensus on consistent guidance and to mobilize resources to geographic areas where critical shortfalls are identified) to give us time to enhance our health care delivery system capacity to respond to an increase in cases. Rapid design and execution of experiments to examine and compare NPIs currently being implemented. DHS Centers for Excellence could potentially be leveraged to conduct these experiments. Rapid assessment of the likely efficacy of school closures, travel bans, bans on mass gatherings of various sizes, and other social distancing approaches. Methods to control the spread in communities, barriers to compliance and how these vary among different populations. Models of potential interventions to predict costs and benefits that take account of such factors as race, income, disability, age, geographic location, immigration status, housing status, employment status, and health insurance status. Policy changes necessary to enable the compliance of individuals with limited resources and the underserved with NPIs. Research on why people fail to comply with public health advice, even if they want to do so (e.g., social or financial costs may be too high). Research on the economic impact of this or any pandemic. This would include identifying policy and programmatic alternatives that lessen/mitigate risks to critical government services, food distribution and supplies, access to critical household supplies, and access to health diagnoses, treatment, and needed care, regardless of ability to pay.\"\n",
    "task_7 = \"What do we know about diagnostics and surveillance? What has been published concerning systematic, holistic approach to diagnostics (from the public health surveillance perspective to being able to predict clinical outcomes)? How widespread current exposure is to be able to make immediate policy recommendations on mitigation measures. Denominators for testing and a mechanism for rapidly sharing that information, including demographics, to the extent possible. Sampling methods to determine asymptomatic disease (e.g., use of serosurveys (such as convalescent samples) and early detection of disease (e.g., use of screening of neutralizing antibodies such as ELISAs). Efforts to increase capacity on existing diagnostic platforms and tap into existing surveillance platforms. Recruitment, support, and coordination of local expertise and capacity (public, private—commercial, and non-profit, including academic), including legal, ethical, communications, and operational issues. National guidance and guidelines about best practices to states (e.g., how states might leverage universities and private laboratories for testing purposes, communications to public health officials and the public). Development of a point-of-care test (like a rapid influenza test) and rapid bed-side tests, recognizing the tradeoffs between speed, accessibility, and accuracy. Rapid design and execution of targeted surveillance experiments calling for all potential testers using PCR in a defined area to start testing and report to a specific entity. These experiments could aid in collecting longitudinal samples, which are critical to understanding the impact of ad hoc local interventions (which also need to be recorded). Separation of assay development issues from instruments, and the role of the private sector to help quickly migrate assays onto those devices. Efforts to track the evolution of the virus (i.e., genetic drift or mutations) and avoid locking into specific reagents and surveillance/detection schemes. Latency issues and when there is sufficient viral load to detect the pathogen, and understanding of what is needed in terms of biological and environmental sampling. Use of diagnostics such as host response markers (e.g., cytokines) to detect early disease or predict severe disease progression, which would be important to understanding best clinical practice and efficacy of therapeutic interventions. Policies and protocols for screening and testing. Policies to mitigate the effects on supplies associated with mass testing, including swabs and reagents. Technology roadmap for diagnostics. Barriers to developing and scaling up new diagnostic tests (e.g., market forces), how future coalition and accelerator models (e.g., Coalition for Epidemic Preparedness Innovations) could provide critical funding for diagnostics, and opportunities for a streamlined regulatory environment. New platforms and technology (e.g., CRISPR) to improve response times and employ more holistic approaches to COVID-19 and future diseases. Coupling genomics and diagnostic testing on a large scale. Enhance capabilities for rapid sequencing and bioinformatics to target regions of the genome that will allow specificity for a particular variant. Enhance capacity (people, technology, data) for sequencing with advanced analytics for unknown pathogens, and explore capabilities for distinguishing naturally-occurring pathogens from intentional. One Health surveillance of humans and potential sources of future spillover or ongoing exposure for this organism and future pathogens, including both evolutionary hosts (e.g., bats) and transmission hosts (e.g., heavily trafficked and farmed wildlife and domestic food and companion species), inclusive of environmental, demographic, and occupational risk factors.\"\n",
    "task_8 = \"At the time of writing, COVID-19 has spread to at least 114 countries. With viral flu, there are often geographic variations in how the disease will spread and if there are different variations of the virus in different areas. We’d like to explore what the literature and data say about this through this Task. Are there geographic variations in the rate of COVID-19 spread? Are there geographic variations in the mortality rate of COVID-19? Is there any evidence to suggest geographic based virus mutations?\"\n",
    "task_9 = \"What has been published concerning ethical considerations for research? What has been published concerning social sciences at the outbreak response? Efforts to articulate and translate existing ethical principles and standards to salient issues in COVID-2019. Efforts to embed ethics across all thematic areas, engage with novel ethical issues that arise and coordinate to minimize duplication of oversight. Efforts to support sustained education, access, and capacity building in the area of ethics. Efforts to establish a team at WHO that will be integrated within multidisciplinary research and operational platforms and that will connect with existing and expanded global networks of social sciences. Efforts to develop qualitative assessment frameworks to systematically collect information related to local barriers and enablers for the uptake and adherence to public health measures for prevention and control. This includes the rapid identification of the secondary impacts of these measures. (e.g. use of surgical masks, modification of health seeking behaviors for SRH, school closures). Efforts to identify how the burden of responding to the outbreak and implementing public health measures affects the physical and psychological health of those providing care for Covid-19 patients and identify the immediate needs that must be addressed. Efforts to identify the underlying drivers of fear, anxiety and stigma that fuel misinformation and rumor, particularly through social media.\"\n",
    "task_10 = \"What has been published about information sharing and inter-sectoral collaboration? What has been published about data standards and nomenclature? What has been published about governmental public health? What do we know about risk communication? What has been published about communicating with high-risk populations? What has been published to clarify community measures? What has been published about equity considerations and problems of inequity? Methods for coordinating data-gathering with standardized nomenclature. Sharing response information among planners, providers, and others. Understanding and mitigating barriers to information-sharing. How to recruit, support, and coordinate local (non-Federal) expertise and capacity relevant to public health emergency response (public, private, commercial and non-profit, including academic). Integration of federal/state/local public health surveillance systems. Value of investments in baseline public health response infrastructure preparedness. Modes of communicating with target high-risk populations (elderly, health care workers). Risk communication and guidelines that are easy to understand and follow (include targeting at risk populations’ families too). Communication that indicates potential risk of disease to all population groups. Misunderstanding around containment and mitigation. Action plan to mitigate gaps and problems of inequity in the Nation’s public health capability, capacity, and funding to ensure all citizens in need are supported and can access information, surveillance, and treatment. Measures to reach marginalized and disadvantaged populations. Data systems and research priorities and agendas incorporate attention to the needs and circumstances of disadvantaged populations and underrepresented minorities. Mitigating threats to incarcerated people from COVID-19, assuring access to information, prevention, diagnosis, and treatment. Understanding coverage policies (barriers and opportunities) related to testing, treatment, and care.\"\n",
    "\n",
    "\n",
    "list_of_tasks = [task_1, task_2, task_3, task_4, task_5, task_6, task_7, task_8, task_9, task_10]\n",
    "list_of_tasks_short = [task_1_short, task_2_short, task_3_short, task_4_short, task_5_short, task_6_short, task_7_short, task_8_short, task_9_short, task_10_short]"
   ]
  },
  {
   "cell_type": "code",
   "execution_count": 264,
   "metadata": {},
   "outputs": [],
   "source": [
    "# helper files\n",
    "\n",
    "from sklearn.metrics import ndcg_score\n",
    "import numpy as np\n",
    "\n",
    "#load the qrels file\n",
    "def getqrels(fname):\n",
    "    qrels = []\n",
    "    for line in open(fname).readlines():\n",
    "        vals = line.strip().split(\" \")\n",
    "        #topic, cord_uid, qrel, assessround\n",
    "        qrels.append([int(vals[0]), vals[3], float(vals[4]), float(vals[1])])\n",
    "\n",
    "    qrels = np.array(qrels, dtype=\"O\")\n",
    "    return qrels\n",
    "\n",
    "#find qrel for a cord uid\n",
    "def get_qrel(cord_uid, topic_id, qrels):\n",
    "\n",
    "    topicrels = qrels[qrels[:,0] == topic_id]\n",
    "\n",
    "    qrel_uids = [qrel[1] for qrel in topicrels]\n",
    "    #print(qrel_uids.index(cord_uid))\n",
    "    index = qrel_uids.index(cord_uid)\n",
    "    #print(qrels[index,2])\n",
    "    if(qrels[index,2] > 0):\n",
    "        return 1\n",
    "    else:\n",
    "        return 0\n",
    "\n",
    "\n",
    "#create a list of length N with K ones and N-K zeroes\n",
    "#was used for old version of kfold xvalidation\n",
    "def rand_bin_list(K, N):\n",
    "    arr = np.zeros(N)\n",
    "    arr[:K]  = 1\n",
    "    np.random.shuffle(arr)\n",
    "    return list(arr)\n",
    "\n",
    "    \n",
    "\n",
    "#ndcg after filtering unknown docs - sakai 2007 says this is more stable than bpref\n",
    "def ndcg(runname, qrelname):\n",
    "    qrels = getqrels(qrelname)\n",
    "#    print(np.array(qrels).shape)\n",
    "    \n",
    "    preds = []\n",
    "    for line in open(runname).readlines():\n",
    "        #topic, unused, cord_uid, rank, score, runname\n",
    "        vals = line.strip().split(\" \")\n",
    "        #topic, cord_uid, score, rank\n",
    "        preds.append([int(vals[0]), vals[2], float(vals[4]), int(vals[3])])\n",
    "        \n",
    "#    print(np.array(preds).shape)\n",
    "\n",
    "    knownpreds = []\n",
    "    \n",
    "    for num, pred in enumerate(preds):\n",
    "        #get qrels for the given topic\n",
    "        qrels_topic = qrels[qrels[:,0] == pred[0]]\n",
    "        qrel_uids = [val[1] for val in qrels_topic]\n",
    "    \n",
    "        #filter all preds not in qrels\n",
    "        if(pred[1] in qrel_uids):\n",
    "            #add real val\n",
    "            knownpreds.append([pred[0], pred[1], pred[2], get_qrel(pred[1], pred[0], qrels_topic), pred[3]])\n",
    "            #print(str(pred[0]) + ' '+ str(pred[1]))\n",
    "\n",
    "    #prep data so we have\n",
    "    #true score, pred score\n",
    "    #print('so how many do we know')\n",
    "    #print(len(knownpreds))\n",
    "    #print(len(preds))\n",
    "    #print(knownpreds[0:5])\n",
    "    #print(preds[0:5])\n",
    "\n",
    "    knownpreds = np.array(knownpreds, dtype=\"O\")\n",
    "    #print(knownpreds.shape)\n",
    "\n",
    "        \n",
    "    #print(sortedqrel[0:20])\n",
    "    #print(sortedqpred[0:20])\n",
    "    \n",
    "    #TODO for each topic compute ndcg, then average\n",
    "    ndcgs = []\n",
    "    for t in range(1, 31):\n",
    "        #print('known preds')\n",
    "        #print(knownpreds)\n",
    "        #print(knownpreds[:,0])\n",
    "        #get this topic's results after filtering unknown qrels\n",
    "        \n",
    "        \n",
    "        \n",
    "        #print('here')\n",
    "        #print(t)\n",
    "        #print(np.array(knownpreds).shape)\n",
    "        #print(knownpreds)\n",
    "        knownpreds_t = knownpreds[knownpreds[:,0] == t]\n",
    "        #anchor2\n",
    "\n",
    "        \n",
    "        #cross validation on knownpreds_t\n",
    "        n_splits = 5\n",
    "        if(len(knownpreds_t) > 5):\n",
    "    #        n_splits = 1\n",
    "            kf = KFold(n_splits)\n",
    "            for train_index, test_index in kf.split(knownpreds_t):\n",
    "            #print(train_index)\n",
    "#        for i in range(0, 5):\n",
    "            #if 1, ignore from this run\n",
    "#            crossval_ind = rand_bin_list(np.floor(len(knownpreds_ts) / 5), len(knownpreds_ts))\n",
    "#            print(crossval_ind)\n",
    "            \n",
    "\n",
    "        \n",
    "                sortedqrel = []\n",
    "                sortedqpred = []\n",
    "                for pred_ind, pred in enumerate(knownpreds_t):\n",
    "                    if pred_ind in train_index:\n",
    "                #if crossval_ind[pred_ind] == 0:\n",
    "                    #print('rankingnew task')\n",
    "                    #print(pred[1])\n",
    "                    #print(pred[0])\n",
    "                    #print(get_qrel(pred[1], pred[0], qrels))\n",
    "                    #get corresponding pred's qrel\n",
    "                        sortedqrel.append(pred[3])#get_qrel(pred[1], pred[0], qrels))\n",
    "                    #ground truth: is supposed to be a '2'\n",
    "                        sortedqpred.append(pred[2])\n",
    "            \n",
    "                #print('topic ' + str(t) + ' has qrels ' + str(len(sortedqrel)))#' knownpreds')\n",
    "                #print(knownpreds_t[0:5])\n",
    "                #print(sortedqrel[0:5])\n",
    "                #print(sortedqpred[0:5])\n",
    "        \n",
    "        \n",
    "        \n",
    "            \n",
    "                if(len(sortedqrel) > 1):\n",
    "                        #print(np.array([sortedqrel]))\n",
    "                        #print(np.array([sortedqpred]))\n",
    "        #            print(ndcg_score(np.asarray([sortedqrel]), np.asarray([sortedqpred]), k=5))\n",
    "                    ndcgs.append(ndcg_score(np.asarray([sortedqrel]), np.asarray([sortedqpred]), k=10))\n",
    "                else:\n",
    "                    pass\n",
    "                    #print('huh')\n",
    "           \n",
    "        #copypasted from above.. should fix later\n",
    "        else:\n",
    "            pass\n",
    "#            sortedqrel = []\n",
    "#            sortedqpred = []\n",
    "#            for pred in knownpreds_t:\n",
    "#                sortedqrel.append(pred[3])\n",
    "#                sortedqpred.append(pred[2])\n",
    "            \n",
    "#                if(len(sortedqrel) > 1):\n",
    "#                        ndcgs.append(ndcg_score(np.asarray([sortedqrel]), np.asarray([sortedqpred]), k=10))\n",
    "#                else:\n",
    "#                    pass\n",
    "                    #print('huh')\n",
    "           \n",
    "        \n",
    "        \n",
    "    #print(ndcgs)\n",
    "    return np.mean(ndcgs)"
   ]
  },
  {
   "cell_type": "code",
   "execution_count": 265,
   "metadata": {},
   "outputs": [
    {
     "name": "stderr",
     "output_type": "stream",
     "text": [
      "15it [00:38,  2.46s/it]"
     ]
    },
    {
     "name": "stdout",
     "output_type": "stream",
     "text": [
      "\n"
     ]
    },
    {
     "name": "stderr",
     "output_type": "stream",
     "text": [
      "35it [01:29,  2.55s/it]\n",
      "0it [00:00, ?it/s]"
     ]
    },
    {
     "name": "stdout",
     "output_type": "stream",
     "text": [
      "Run /home/tmschoegje/Desktop/caos-19/trecdata/qexp-q0n0t0.run ndcg 0.5950365508357838\n"
     ]
    },
    {
     "name": "stderr",
     "output_type": "stream",
     "text": [
      "15it [00:32,  2.11s/it]"
     ]
    },
    {
     "name": "stdout",
     "output_type": "stream",
     "text": [
      "\n"
     ]
    },
    {
     "name": "stderr",
     "output_type": "stream",
     "text": [
      "35it [01:14,  2.14s/it]\n",
      "0it [00:00, ?it/s]"
     ]
    },
    {
     "name": "stdout",
     "output_type": "stream",
     "text": [
      "Run /home/tmschoegje/Desktop/caos-19/trecdata/qexp-q0n0t1.0.run ndcg 0.40293367980221073\n"
     ]
    },
    {
     "name": "stderr",
     "output_type": "stream",
     "text": [
      "15it [00:32,  2.16s/it]"
     ]
    },
    {
     "name": "stdout",
     "output_type": "stream",
     "text": [
      "\n"
     ]
    },
    {
     "name": "stderr",
     "output_type": "stream",
     "text": [
      "35it [01:15,  2.16s/it]\n",
      "0it [00:00, ?it/s]"
     ]
    },
    {
     "name": "stdout",
     "output_type": "stream",
     "text": [
      "Run /home/tmschoegje/Desktop/caos-19/trecdata/qexp-q0n0t1.0.run ndcg 0.40293367980221073\n"
     ]
    },
    {
     "name": "stderr",
     "output_type": "stream",
     "text": [
      "15it [00:28,  1.89s/it]"
     ]
    },
    {
     "name": "stdout",
     "output_type": "stream",
     "text": [
      "\n"
     ]
    },
    {
     "name": "stderr",
     "output_type": "stream",
     "text": [
      "35it [01:07,  1.94s/it]\n",
      "0it [00:00, ?it/s]"
     ]
    },
    {
     "name": "stdout",
     "output_type": "stream",
     "text": [
      "Run /home/tmschoegje/Desktop/caos-19/trecdata/qexp-q0n1.0t0.run ndcg 0.5502610364820663\n"
     ]
    },
    {
     "name": "stderr",
     "output_type": "stream",
     "text": [
      "15it [00:36,  2.40s/it]"
     ]
    },
    {
     "name": "stdout",
     "output_type": "stream",
     "text": [
      "\n"
     ]
    },
    {
     "name": "stderr",
     "output_type": "stream",
     "text": [
      "35it [01:26,  2.47s/it]\n",
      "0it [00:00, ?it/s]"
     ]
    },
    {
     "name": "stdout",
     "output_type": "stream",
     "text": [
      "Run /home/tmschoegje/Desktop/caos-19/trecdata/qexp-q0n0.5t0.5.run ndcg 0.556958955925142\n"
     ]
    },
    {
     "name": "stderr",
     "output_type": "stream",
     "text": [
      "15it [00:33,  2.24s/it]"
     ]
    },
    {
     "name": "stdout",
     "output_type": "stream",
     "text": [
      "\n"
     ]
    },
    {
     "name": "stderr",
     "output_type": "stream",
     "text": [
      "35it [01:17,  2.23s/it]\n",
      "0it [00:00, ?it/s]"
     ]
    },
    {
     "name": "stdout",
     "output_type": "stream",
     "text": [
      "Run /home/tmschoegje/Desktop/caos-19/trecdata/qexp-q0n0.3333333333333333t0.6666666666666666.run ndcg 0.5298665297694382\n"
     ]
    },
    {
     "name": "stderr",
     "output_type": "stream",
     "text": [
      "15it [00:27,  1.84s/it]"
     ]
    },
    {
     "name": "stdout",
     "output_type": "stream",
     "text": [
      "\n"
     ]
    },
    {
     "name": "stderr",
     "output_type": "stream",
     "text": [
      "35it [01:04,  1.86s/it]\n",
      "0it [00:00, ?it/s]"
     ]
    },
    {
     "name": "stdout",
     "output_type": "stream",
     "text": [
      "Run /home/tmschoegje/Desktop/caos-19/trecdata/qexp-q0n1.0t0.run ndcg 0.5502610364820663\n"
     ]
    },
    {
     "name": "stderr",
     "output_type": "stream",
     "text": [
      "15it [00:30,  2.02s/it]"
     ]
    },
    {
     "name": "stdout",
     "output_type": "stream",
     "text": [
      "\n"
     ]
    },
    {
     "name": "stderr",
     "output_type": "stream",
     "text": [
      "35it [01:11,  2.04s/it]\n",
      "0it [00:00, ?it/s]"
     ]
    },
    {
     "name": "stdout",
     "output_type": "stream",
     "text": [
      "Run /home/tmschoegje/Desktop/caos-19/trecdata/qexp-q0n0.6666666666666666t0.3333333333333333.run ndcg 0.5952965304547803\n"
     ]
    },
    {
     "name": "stderr",
     "output_type": "stream",
     "text": [
      "15it [00:32,  2.12s/it]"
     ]
    },
    {
     "name": "stdout",
     "output_type": "stream",
     "text": [
      "\n"
     ]
    },
    {
     "name": "stderr",
     "output_type": "stream",
     "text": [
      "35it [01:14,  2.14s/it]\n",
      "0it [00:00, ?it/s]"
     ]
    },
    {
     "name": "stdout",
     "output_type": "stream",
     "text": [
      "Run /home/tmschoegje/Desktop/caos-19/trecdata/qexp-q0n0.5t0.5.run ndcg 0.556958955925142\n"
     ]
    },
    {
     "name": "stderr",
     "output_type": "stream",
     "text": [
      "15it [00:44,  2.32s/it]"
     ]
    },
    {
     "name": "stdout",
     "output_type": "stream",
     "text": [
      "\n"
     ]
    },
    {
     "name": "stderr",
     "output_type": "stream",
     "text": [
      "35it [01:32,  2.64s/it]\n",
      "0it [00:00, ?it/s]"
     ]
    },
    {
     "name": "stdout",
     "output_type": "stream",
     "text": [
      "Run /home/tmschoegje/Desktop/caos-19/trecdata/qexp-q1.0n0t0.run ndcg 0.5430865608342422\n"
     ]
    },
    {
     "name": "stderr",
     "output_type": "stream",
     "text": [
      "15it [00:35,  2.29s/it]"
     ]
    },
    {
     "name": "stdout",
     "output_type": "stream",
     "text": [
      "\n"
     ]
    },
    {
     "name": "stderr",
     "output_type": "stream",
     "text": [
      "35it [01:26,  2.47s/it]\n",
      "0it [00:00, ?it/s]"
     ]
    },
    {
     "name": "stdout",
     "output_type": "stream",
     "text": [
      "Run /home/tmschoegje/Desktop/caos-19/trecdata/qexp-q0.5n0t0.5.run ndcg 0.5094489276457072\n"
     ]
    },
    {
     "name": "stderr",
     "output_type": "stream",
     "text": [
      "15it [00:33,  2.18s/it]"
     ]
    },
    {
     "name": "stdout",
     "output_type": "stream",
     "text": [
      "\n"
     ]
    },
    {
     "name": "stderr",
     "output_type": "stream",
     "text": [
      "35it [01:20,  2.31s/it]\n",
      "0it [00:00, ?it/s]"
     ]
    },
    {
     "name": "stdout",
     "output_type": "stream",
     "text": [
      "Run /home/tmschoegje/Desktop/caos-19/trecdata/qexp-q0.3333333333333333n0t0.6666666666666666.run ndcg 0.4725154355382695\n"
     ]
    },
    {
     "name": "stderr",
     "output_type": "stream",
     "text": [
      "15it [00:30,  1.98s/it]"
     ]
    },
    {
     "name": "stdout",
     "output_type": "stream",
     "text": [
      "\n"
     ]
    },
    {
     "name": "stderr",
     "output_type": "stream",
     "text": [
      "35it [01:13,  2.10s/it]\n",
      "0it [00:00, ?it/s]"
     ]
    },
    {
     "name": "stdout",
     "output_type": "stream",
     "text": [
      "Run /home/tmschoegje/Desktop/caos-19/trecdata/qexp-q0.5n0.5t0.run ndcg 0.5964480178218833\n"
     ]
    },
    {
     "name": "stderr",
     "output_type": "stream",
     "text": [
      "15it [00:32,  2.13s/it]"
     ]
    },
    {
     "name": "stdout",
     "output_type": "stream",
     "text": [
      "\n"
     ]
    },
    {
     "name": "stderr",
     "output_type": "stream",
     "text": [
      "35it [01:16,  2.20s/it]\n",
      "0it [00:00, ?it/s]"
     ]
    },
    {
     "name": "stdout",
     "output_type": "stream",
     "text": [
      "Run /home/tmschoegje/Desktop/caos-19/trecdata/qexp-q0.3333333333333333n0.3333333333333333t0.3333333333333333.run ndcg 0.5723061318613217\n"
     ]
    },
    {
     "name": "stderr",
     "output_type": "stream",
     "text": [
      "15it [00:32,  2.16s/it]"
     ]
    },
    {
     "name": "stdout",
     "output_type": "stream",
     "text": [
      "\n"
     ]
    },
    {
     "name": "stderr",
     "output_type": "stream",
     "text": [
      "35it [01:23,  2.37s/it]\n",
      "0it [00:00, ?it/s]"
     ]
    },
    {
     "name": "stdout",
     "output_type": "stream",
     "text": [
      "Run /home/tmschoegje/Desktop/caos-19/trecdata/qexp-q0.25n0.25t0.5.run ndcg 0.5439133187210744\n"
     ]
    },
    {
     "name": "stderr",
     "output_type": "stream",
     "text": [
      "15it [00:30,  1.98s/it]"
     ]
    },
    {
     "name": "stdout",
     "output_type": "stream",
     "text": [
      "\n"
     ]
    },
    {
     "name": "stderr",
     "output_type": "stream",
     "text": [
      "35it [01:14,  2.12s/it]\n",
      "0it [00:00, ?it/s]"
     ]
    },
    {
     "name": "stdout",
     "output_type": "stream",
     "text": [
      "Run /home/tmschoegje/Desktop/caos-19/trecdata/qexp-q0.3333333333333333n0.6666666666666666t0.run ndcg 0.5874491827359098\n"
     ]
    },
    {
     "name": "stderr",
     "output_type": "stream",
     "text": [
      "15it [00:31,  2.06s/it]"
     ]
    },
    {
     "name": "stdout",
     "output_type": "stream",
     "text": [
      "\n"
     ]
    },
    {
     "name": "stderr",
     "output_type": "stream",
     "text": [
      "35it [01:16,  2.17s/it]\n",
      "0it [00:00, ?it/s]"
     ]
    },
    {
     "name": "stdout",
     "output_type": "stream",
     "text": [
      "Run /home/tmschoegje/Desktop/caos-19/trecdata/qexp-q0.25n0.5t0.25.run ndcg 0.6041186304778956\n"
     ]
    },
    {
     "name": "stderr",
     "output_type": "stream",
     "text": [
      "15it [00:33,  2.24s/it]"
     ]
    },
    {
     "name": "stdout",
     "output_type": "stream",
     "text": [
      "\n"
     ]
    },
    {
     "name": "stderr",
     "output_type": "stream",
     "text": [
      "35it [01:21,  2.34s/it]\n",
      "0it [00:00, ?it/s]"
     ]
    },
    {
     "name": "stdout",
     "output_type": "stream",
     "text": [
      "Run /home/tmschoegje/Desktop/caos-19/trecdata/qexp-q0.2n0.4t0.4.run ndcg 0.5868268668369607\n"
     ]
    },
    {
     "name": "stderr",
     "output_type": "stream",
     "text": [
      "15it [00:30,  2.04s/it]"
     ]
    },
    {
     "name": "stdout",
     "output_type": "stream",
     "text": [
      "\n"
     ]
    },
    {
     "name": "stderr",
     "output_type": "stream",
     "text": [
      "35it [01:12,  2.07s/it]\n",
      "0it [00:00, ?it/s]"
     ]
    },
    {
     "name": "stdout",
     "output_type": "stream",
     "text": [
      "Run /home/tmschoegje/Desktop/caos-19/trecdata/qexp-q1.0n0t0.run ndcg 0.5430865608342422\n"
     ]
    },
    {
     "name": "stderr",
     "output_type": "stream",
     "text": [
      "15it [00:34,  2.30s/it]"
     ]
    },
    {
     "name": "stdout",
     "output_type": "stream",
     "text": [
      "\n"
     ]
    },
    {
     "name": "stderr",
     "output_type": "stream",
     "text": [
      "35it [01:21,  2.31s/it]\n",
      "0it [00:00, ?it/s]"
     ]
    },
    {
     "name": "stdout",
     "output_type": "stream",
     "text": [
      "Run /home/tmschoegje/Desktop/caos-19/trecdata/qexp-q0.6666666666666666n0t0.3333333333333333.run ndcg 0.5224812891912403\n"
     ]
    },
    {
     "name": "stderr",
     "output_type": "stream",
     "text": [
      "15it [00:34,  2.25s/it]"
     ]
    },
    {
     "name": "stdout",
     "output_type": "stream",
     "text": [
      "\n"
     ]
    },
    {
     "name": "stderr",
     "output_type": "stream",
     "text": [
      "35it [01:20,  2.31s/it]\n",
      "0it [00:00, ?it/s]"
     ]
    },
    {
     "name": "stdout",
     "output_type": "stream",
     "text": [
      "Run /home/tmschoegje/Desktop/caos-19/trecdata/qexp-q0.5n0t0.5.run ndcg 0.5094489276457072\n"
     ]
    },
    {
     "name": "stderr",
     "output_type": "stream",
     "text": [
      "15it [00:29,  1.89s/it]"
     ]
    },
    {
     "name": "stdout",
     "output_type": "stream",
     "text": [
      "\n"
     ]
    },
    {
     "name": "stderr",
     "output_type": "stream",
     "text": [
      "35it [01:12,  2.06s/it]\n",
      "0it [00:00, ?it/s]"
     ]
    },
    {
     "name": "stdout",
     "output_type": "stream",
     "text": [
      "Run /home/tmschoegje/Desktop/caos-19/trecdata/qexp-q0.6666666666666666n0.3333333333333333t0.run ndcg 0.5832441658240782\n"
     ]
    },
    {
     "name": "stderr",
     "output_type": "stream",
     "text": [
      "15it [00:32,  2.16s/it]"
     ]
    },
    {
     "name": "stdout",
     "output_type": "stream",
     "text": [
      "\n"
     ]
    },
    {
     "name": "stderr",
     "output_type": "stream",
     "text": [
      "35it [01:15,  2.17s/it]\n",
      "0it [00:00, ?it/s]"
     ]
    },
    {
     "name": "stdout",
     "output_type": "stream",
     "text": [
      "Run /home/tmschoegje/Desktop/caos-19/trecdata/qexp-q0.5n0.25t0.25.run ndcg 0.5894452366530731\n"
     ]
    },
    {
     "name": "stderr",
     "output_type": "stream",
     "text": [
      "15it [00:32,  2.14s/it]"
     ]
    },
    {
     "name": "stdout",
     "output_type": "stream",
     "text": [
      "\n"
     ]
    },
    {
     "name": "stderr",
     "output_type": "stream",
     "text": [
      "35it [01:18,  2.26s/it]\n",
      "0it [00:00, ?it/s]"
     ]
    },
    {
     "name": "stdout",
     "output_type": "stream",
     "text": [
      "Run /home/tmschoegje/Desktop/caos-19/trecdata/qexp-q0.4n0.2t0.4.run ndcg 0.5649266906481579\n"
     ]
    },
    {
     "name": "stderr",
     "output_type": "stream",
     "text": [
      "15it [00:28,  1.88s/it]"
     ]
    },
    {
     "name": "stdout",
     "output_type": "stream",
     "text": [
      "\n"
     ]
    },
    {
     "name": "stderr",
     "output_type": "stream",
     "text": [
      "35it [01:10,  2.01s/it]\n",
      "0it [00:00, ?it/s]"
     ]
    },
    {
     "name": "stdout",
     "output_type": "stream",
     "text": [
      "Run /home/tmschoegje/Desktop/caos-19/trecdata/qexp-q0.5n0.5t0.run ndcg 0.5964480178218833\n"
     ]
    },
    {
     "name": "stderr",
     "output_type": "stream",
     "text": [
      "15it [00:29,  1.92s/it]"
     ]
    },
    {
     "name": "stdout",
     "output_type": "stream",
     "text": [
      "\n"
     ]
    },
    {
     "name": "stderr",
     "output_type": "stream",
     "text": [
      "35it [01:12,  2.07s/it]\n",
      "0it [00:00, ?it/s]"
     ]
    },
    {
     "name": "stdout",
     "output_type": "stream",
     "text": [
      "Run /home/tmschoegje/Desktop/caos-19/trecdata/qexp-q0.4n0.4t0.2.run ndcg 0.5757659409248462\n"
     ]
    },
    {
     "name": "stderr",
     "output_type": "stream",
     "text": [
      "15it [00:32,  2.21s/it]"
     ]
    },
    {
     "name": "stdout",
     "output_type": "stream",
     "text": [
      "\n"
     ]
    },
    {
     "name": "stderr",
     "output_type": "stream",
     "text": [
      "35it [01:18,  2.23s/it]\n"
     ]
    },
    {
     "name": "stdout",
     "output_type": "stream",
     "text": [
      "Run /home/tmschoegje/Desktop/caos-19/trecdata/qexp-q0.3333333333333333n0.3333333333333333t0.3333333333333333.run ndcg 0.5723061318613217\n"
     ]
    },
    {
     "data": {
      "text/plain": [
       "\"\\nm = max(logscores)\\nprint('max score found was')\\nprint(m)\\nprint('which was found in runs')\\nindex = [i for i, j in enumerate(logscores) if j == m]\\nfor i in index:\\n    print(lognames[i])\\n    \\n#best so far - 2/3 query + 1/3 narr    .55\\n\""
      ]
     },
     "execution_count": 265,
     "metadata": {},
     "output_type": "execute_result"
    }
   ],
   "source": [
    "bm25_split = .60\n",
    "nar_split = .25\n",
    "task_split = .15\n",
    "\n",
    "\n",
    "#should we filter old qrels etc for round 3?  i.e. False = generate using valid doc ids etc\n",
    "unfiltered = True\n",
    "\n",
    "\n",
    "#todo update xval by always ranking full qrels   anchor3 \n",
    "#for i in range(0, len(docids)):\n",
    "#    score = index_utils.compute_query_document_score(docids[i], query)\n",
    "#    print(f'{i+1:2} {docids[i]:15} {score:.5f}')\n",
    "\n",
    "def testrun2(fname, pq, pnarr, ptask):\n",
    "\n",
    "    qrel_seen = 0\n",
    "    total = 0\n",
    "\n",
    "    with open(fname, 'w') as f:\n",
    "        for topicno, topic in tqdm(enumerate(topics)):\n",
    "                task = tasks[rnd3classes[topicno]]\n",
    "                topic = topic.split(' ')\n",
    "                nar = nars[topicno]\n",
    "                nar = nar.split(' ')    \n",
    "                new_task = []\n",
    "                for t in task:\n",
    "                    for nt in t.split(' '):\n",
    "                        new_task.append(nt)\n",
    "                #use with kaggle task text\n",
    "                task = new_task\n",
    "                #task_confidence = 1\n",
    "                \n",
    "                #use with qrel task text\n",
    "                #task = tasks_weights[topic_task_no[topicno]]\n",
    "                task_confidence = rnd3confidence[rnd3classes[topicno]]\n",
    "                \n",
    "                query = build_query(topic, nar, task, pq, pnarr, ptask, task_confidence, rnd3classes[topicno])\n",
    "                \n",
    "                #for ranking qrels\n",
    "                #mast\n",
    "                \n",
    "                #topic, cord, rel, round\n",
    "#                qrels = getqrels(qrelname)\n",
    "#                hits = []\n",
    "                \n",
    "#                print(query)\n",
    "#                for qrel in qrels:\n",
    "#                    score = index_utils.compute_query_document_score(qrel[1], query)\n",
    "#                    hits.append([qrel].extend(score))\n",
    "#                    print(hits)\n",
    "                    \n",
    "#                rankedhits = sorted(hits, key=lambda x: x[4])\n",
    "                \n",
    "#                print(hits[0:5])\n",
    "#                print(rankedhits[0:5])\n",
    "#                print()\n",
    "                \n",
    "                \n",
    "                hits = searcher.search(query, 20000) #5000 for filtering\n",
    "\n",
    "                i = 0\n",
    "                j = 0\n",
    "                seen = set()\n",
    "                \n",
    "\n",
    "                #for regular ranking\n",
    "                while j < len(hits):#i < 100:   #for generating the 100 end results\n",
    "                    hit = hits[j]\n",
    "                    # print(hit)\n",
    "                    if(unfiltered):\n",
    "                        #pass\n",
    "                        if(hit.docid.split('.')[0] not in judged[topicno+1]) or hit.docid.split('.')[0] in seen:\n",
    "                            j+=1\n",
    "                            continue\n",
    "                    else:\n",
    "                        if hit.docid.split('.')[0] in seen or hit.docid.split('.')[0] in judged[topicno+1] or hit.docid.split('.')[0] not in valid:\n",
    "                            j+=1\n",
    "                            continue\n",
    "                    f.write(f'{topicno+1} Q0 {hit.docid.split(\".\")[0]} {i+1} {hit.score} {fname[42:-4]}\\n')\n",
    "                    i+=1\n",
    "                    j+=1\n",
    "                    seen |= {hit.docid.split('.')[0]}\n",
    "\n",
    "                    if hit.docid.split('.')[0] in judged[topicno+1]:\n",
    "                        qrel_seen +=1\n",
    "                    total+=1\n",
    "\n",
    "\n",
    "qrel_path = '/home/tmschoegje/Desktop/caos-19/trecdata/qrels-rnd2.txt'\n",
    "topics_path = '/home/tmschoegje/Desktop/caos-19/trecdata/topics-rnd2.xml'         \n",
    "tree = Et.parse(topics_path)\n",
    "root = tree.getroot()\n",
    "topics = [root[i][0].text for i in range(35)]                    \n",
    "nars =  [root[i][1].text for i in range(35)]                    \n",
    "        \n",
    "judged = defaultdict(set)\n",
    "with open(qrel_path, 'r') as f:\n",
    "    for line in f:\n",
    "        topicno, iteration, empty, docid, relevance = line.strip().split(' ')\n",
    "        judged[int(topicno)] |= {docid}\n",
    "    \n",
    "pq = 0.6\n",
    "pnarr = 0.25\n",
    "ptask = 0.15\n",
    "qrelname = '/home/tmschoegje/Desktop/caos-19/trecdata/qrels-rnd2.txt'\n",
    "\n",
    "lognames = []\n",
    "logscores = []\n",
    "\n",
    "#generate baseline run - only query\n",
    "#runname = '/home/tmschoegje/Desktop/caos-19/runs/testrun-baseline-rnd3.run'\n",
    "#testrun2(runname, 1, 0, 0)\n",
    "#print(ndcg(runname, qrelname))\n",
    "\n",
    "#generate using the best known parameters\n",
    "#runname = '/home/tmschoegje/Desktop/caos-19/runs/testrun-best-rnd3.run'\n",
    "#testrun2(runname, 0.2, 0.4, 0.4)\n",
    "#print(ndcg(runname, qrelname))\n",
    "\n",
    "\n",
    "for pq in np.linspace(0, 1, 3):\n",
    "    for pnarr in np.linspace(0, 1, 3):\n",
    "        for ptask in np.linspace(0, 1, 3):\n",
    "            ptotal = pq+pnarr+ptask\n",
    "            \n",
    "            if (pq == 0):\n",
    "                pq_n = 0\n",
    "            else:\n",
    "                pq_n = pq / ptotal\n",
    "                \n",
    "            if (pnarr == 0):\n",
    "                pnarr_n = 0\n",
    "            else:\n",
    "                pnarr_n = pnarr / ptotal\n",
    "                \n",
    "            if (ptask == 0):\n",
    "                ptask_n = 0\n",
    "            else:\n",
    "                ptask_n = ptask / ptotal\n",
    "            runname = '/home/tmschoegje/Desktop/caos-19/trecdata/qexp-q' + str(pq_n) + 'n' + str(pnarr_n) + 't' + str(ptask_n) + '.run'\n",
    "            testrun2(runname, pq, pnarr, ptask)\n",
    "            n = ndcg(runname, qrelname)\n",
    "            print('Run ' + str(runname) + ' ndcg ' + str(n))\n",
    "            \n",
    "            lognames.append(str(runname))\n",
    "            logscores.append(n)\n",
    "\n",
    "\n",
    "#runname = '/home/tmschoegje/Desktop/caos-19/trecdata/qexp-test1'\n",
    "#testrun(runname, 1, 0, 0)\n",
    "#print(ndcg(runname, qrelname))\n",
    "\n",
    "\"\"\"\n",
    "m = max(logscores)\n",
    "print('max score found was')\n",
    "print(m)\n",
    "print('which was found in runs')\n",
    "index = [i for i, j in enumerate(logscores) if j == m]\n",
    "for i in index:\n",
    "    print(lognames[i])\n",
    "    \n",
    "#best so far - 2/3 query + 1/3 narr    .55\n",
    "\"\"\"\n",
    "\n",
    "#so doing the tasks qexp gives a max of .578\n",
    "#doing the query qexp gives          Run /home/tmschoegje/Desktop/caos-19/trecdata/qexp-q0.25n0.5t0.25.run ndcg 0.6041186304778956\n",
    "#doing top3 narrative term selection based on embedding gives\n",
    "#doing top3 narrative term selection based on tfidf gives"
   ]
  },
  {
   "cell_type": "code",
   "execution_count": null,
   "metadata": {},
   "outputs": [],
   "source": [
    "bm25 = ['coronavirus', 'response', 'weather', 'changes', 'Coronavirus', 'CoV', 'coronaviruses', 'responses', 'defenses', 'suppression', 'they', 'thus', 'climatic', 'meteorological', 'climate', 'alterations', 'change', 'differences']\n",
    "builder = pyquerybuilder.get_boolean_query_builder()\n",
    "    \n",
    "for b in bm25:\n",
    "    b = pyquerybuilder.get_term_query(b)\n",
    "    boostquery = pyquerybuilder.get_boost_query(b, bm25_split/len(bm25))\n",
    "    builder.add(boostquery, pyquerybuilder.JBooleanClauseOccur['should'].value)\n"
   ]
  },
  {
   "cell_type": "code",
   "execution_count": null,
   "metadata": {},
   "outputs": [],
   "source": []
  },
  {
   "cell_type": "code",
   "execution_count": null,
   "metadata": {},
   "outputs": [],
   "source": []
  }
 ],
 "metadata": {
  "kernelspec": {
   "display_name": "Python 3",
   "language": "python",
   "name": "python3"
  },
  "language_info": {
   "codemirror_mode": {
    "name": "ipython",
    "version": 3
   },
   "file_extension": ".py",
   "mimetype": "text/x-python",
   "name": "python",
   "nbconvert_exporter": "python",
   "pygments_lexer": "ipython3",
   "version": "3.6.9"
  }
 },
 "nbformat": 4,
 "nbformat_minor": 2
}
